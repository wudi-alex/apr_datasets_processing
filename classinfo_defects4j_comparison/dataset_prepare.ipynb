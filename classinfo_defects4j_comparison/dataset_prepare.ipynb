{
 "cells": [
  {
   "cell_type": "code",
   "execution_count": 1,
   "id": "bafa2f20-d4f3-4fa0-bf91-6269ad0ffded",
   "metadata": {},
   "outputs": [],
   "source": [
    "from datasets import *"
   ]
  },
  {
   "cell_type": "markdown",
   "id": "f2ed30d7-0666-411b-96a3-75250b10720f",
   "metadata": {},
   "source": [
    "## base dataset"
   ]
  },
  {
   "cell_type": "code",
   "execution_count": 70,
   "id": "4a6ccb09-cb37-4834-a922-e5b43a3f1a90",
   "metadata": {},
   "outputs": [],
   "source": [
    "file_path='defects4j_with_context.jsonl'"
   ]
  },
  {
   "cell_type": "code",
   "execution_count": 71,
   "id": "a512fd78-d67b-47bc-bce3-18705682063a",
   "metadata": {},
   "outputs": [
    {
     "name": "stderr",
     "output_type": "stream",
     "text": [
      "Found cached dataset json (/Users/alex.wu/.cache/huggingface/datasets/json/default-ce6bf931c4abb1a9/0.0.0/0f7e3662623656454fcd2b650f34e886a7db4b9104504885bd462096cc7a9f51)\n"
     ]
    }
   ],
   "source": [
    "base_dataset =load_dataset('json', data_files=file_path, split='all')"
   ]
  },
  {
   "cell_type": "code",
   "execution_count": 72,
   "id": "20cd0ebc-8b13-48c6-a65d-3208244b84a0",
   "metadata": {},
   "outputs": [],
   "source": [
    "def process_base_dataset(sample):\n",
    "    buggy_info = sample['buggyInfo']\n",
    "    proj, bug_id, start_line, end_line, path = buggy_info['projectName'].split('_')[0], \\\n",
    "        buggy_info['projectName'].split('_')[1], buggy_info['startLine'], buggy_info['endLine'], buggy_info[\n",
    "        'filePath'].replace(f\"/Users/alex.wu/defects4j_projects_buggy/{buggy_info['projectName']}\", '')\n",
    "    end_line = int(end_line) - 1\n",
    "    \n",
    "    proj= proj.capitalize().replace('Jacksondatabind', 'JacksonDatabind').replace('Jacksoncore', 'JacksonCore').replace(\n",
    "            'Jacksonxml', 'JacksonXml').replace('Jxpath', 'JxPath')\n",
    "    \n",
    "    sample['bug_id']=proj+'-'+bug_id\n",
    "    sample['start_line']=start_line\n",
    "    sample['end_line']=end_line\n",
    "    sample['path']=path\n",
    "    sample['fix_code']=sample['buggyInfo']['originalCode']\n",
    "    sample['pre_context']=sample['buggyInfo']['methodPreContext']\n",
    "    sample['post_context']=sample['buggyInfo']['methodPostContext']\n",
    "    sample['buggy_code']=sample['buggyInfo']['buggyCode']\n",
    "    return sample"
   ]
  },
  {
   "cell_type": "code",
   "execution_count": 73,
   "id": "80369bfc-6dd4-4936-bb5e-d806009fc1ab",
   "metadata": {},
   "outputs": [
    {
     "data": {
      "application/vnd.jupyter.widget-view+json": {
       "model_id": "",
       "version_major": 2,
       "version_minor": 0
      },
      "text/plain": [
       "Map:   0%|          | 0/455 [00:00<?, ? examples/s]"
      ]
     },
     "metadata": {},
     "output_type": "display_data"
    }
   ],
   "source": [
    "base_dataset=base_dataset.map(process_base_dataset)"
   ]
  },
  {
   "cell_type": "code",
   "execution_count": 74,
   "id": "67a37551-2baa-4141-8a22-4261e1c33634",
   "metadata": {},
   "outputs": [
    {
     "data": {
      "text/plain": [
       "Dataset({\n",
       "    features: ['methodInformation', 'involvedTypesInformation', 'filePath', 'classInformation', 'buggyInfo', 'projectName', 'bug_id', 'start_line', 'end_line', 'path', 'fix_code', 'pre_context', 'post_context', 'buggy_code'],\n",
       "    num_rows: 455\n",
       "})"
      ]
     },
     "execution_count": 74,
     "metadata": {},
     "output_type": "execute_result"
    }
   ],
   "source": [
    "base_dataset"
   ]
  },
  {
   "cell_type": "code",
   "execution_count": 75,
   "id": "898fe951-40b0-4755-b13d-2a6c7e90f500",
   "metadata": {},
   "outputs": [
    {
     "name": "stderr",
     "output_type": "stream",
     "text": [
      "Found cached dataset json (/Users/alex.wu/.cache/huggingface/datasets/json/default-d19fb47fc1dc95de/0.0.0/0f7e3662623656454fcd2b650f34e886a7db4b9104504885bd462096cc7a9f51)\n"
     ]
    }
   ],
   "source": [
    "full_dataset_without_context=load_dataset('json', data_files='defects4j.jsonl', split='all')"
   ]
  },
  {
   "cell_type": "markdown",
   "id": "ce20e246-094c-4810-adfd-dcc16eaa4571",
   "metadata": {},
   "source": [
    "#### complete base dataset"
   ]
  },
  {
   "cell_type": "code",
   "execution_count": 76,
   "id": "ea5fdddd-3706-4d94-a3d1-4e99fe553b11",
   "metadata": {},
   "outputs": [],
   "source": [
    "base_bug_ids=base_dataset['bug_id']"
   ]
  },
  {
   "cell_type": "code",
   "execution_count": 77,
   "id": "78ebd048-0283-45e2-a856-dc5dd533af21",
   "metadata": {},
   "outputs": [],
   "source": [
    "sample_list=[]\n",
    "\n",
    "for sample in full_dataset_without_context:\n",
    "    proj, ids = sample['projectName'].split('_')[0], \\\n",
    "        sample['projectName'].split('_')[1]\n",
    "    proj= proj.capitalize().replace('Jacksondatabind', 'JacksonDatabind').replace('Jacksoncore', 'JacksonCore').replace(\n",
    "            'Jacksonxml', 'JacksonXml').replace('Jxpath', 'JxPath')\n",
    "    bug_id=proj+'-'+ids\n",
    "    \n",
    "    if bug_id not in base_bug_ids:\n",
    "        add_sample={\n",
    "            \"buggyInfo\": None,\n",
    "            \"bug_id\":bug_id,\n",
    "            \"start_line\":sample['startLine'],\n",
    "            \"end_line\":int(sample['endLine']) - 1,\n",
    "            \"path\":sample['filePath'].replace(f\"/Users/alex.wu/defects4j_projects_buggy/{sample['projectName']}\", ''),\n",
    "            \"fix_code\":sample['originalCode'],\n",
    "            \"methodInformation\":None,\n",
    "            \"involvedTypesInformation\":None,\n",
    "            \"filePath\":sample['filePath'],\n",
    "            \"classInformation\":None,\n",
    "            \"projectName\":sample['projectName'],\n",
    "            'pre_context':sample['methodPreContext'],\n",
    "            'post_context':sample['methodPostContext'],\n",
    "            'buggy_code':sample['buggyCode'],\n",
    "        }\n",
    "        sample_list.append(add_sample)\n",
    "        \n",
    "base_dataset = concatenate_datasets([base_dataset, Dataset.from_list(sample_list)])"
   ]
  },
  {
   "cell_type": "markdown",
   "id": "81934b54-26c5-49ea-996f-efa106542f44",
   "metadata": {},
   "source": [
    "## vanilla dataset prepration"
   ]
  },
  {
   "cell_type": "code",
   "execution_count": 84,
   "id": "fa4bd965-f312-4909-82b4-f3d1353b0f70",
   "metadata": {},
   "outputs": [
    {
     "data": {
      "application/vnd.jupyter.widget-view+json": {
       "model_id": "",
       "version_major": 2,
       "version_minor": 0
      },
      "text/plain": [
       "Map:   0%|          | 0/479 [00:00<?, ? examples/s]"
      ]
     },
     "metadata": {},
     "output_type": "display_data"
    },
    {
     "data": {
      "application/vnd.jupyter.widget-view+json": {
       "model_id": "",
       "version_major": 2,
       "version_minor": 0
      },
      "text/plain": [
       "Saving the dataset (0/1 shards):   0%|          | 0/479 [00:00<?, ? examples/s]"
      ]
     },
     "metadata": {},
     "output_type": "display_data"
    }
   ],
   "source": [
    "def get_vanilla_input(sample):\n",
    "    # format as \"<PRE> {pre} <SUF>{suf} <MID>\"\n",
    "    sample['input']='<PRE> '+sample['pre_context']+' <SUF>'+sample['post_context']+' <MID>'\n",
    "    return sample\n",
    "\n",
    "vanilla_dataset=base_dataset.map(get_vanilla_input)\n",
    "vanilla_dataset.save_to_disk('datasets/defects4j_vanilla')"
   ]
  },
  {
   "cell_type": "markdown",
   "id": "4b11130e-02eb-4f46-9bf5-5ee5ed9ff9f8",
   "metadata": {},
   "source": [
    "## repairllama dataset prepration"
   ]
  },
  {
   "cell_type": "code",
   "execution_count": 85,
   "id": "45ba0336-8c9a-4a56-bf39-f9891d8266b3",
   "metadata": {},
   "outputs": [],
   "source": [
    "import os\n",
    "from datasets import *"
   ]
  },
  {
   "cell_type": "code",
   "execution_count": 86,
   "id": "8f433391-3747-41ea-b198-faa9d35c6758",
   "metadata": {},
   "outputs": [],
   "source": [
    "directory='/Users/alex.wu/PycharmProjects/repairllama/results/defects4j/repairllama/fft/patches'"
   ]
  },
  {
   "cell_type": "code",
   "execution_count": 87,
   "id": "7fd6a71b-6160-4182-823e-fd4f89e1dac6",
   "metadata": {},
   "outputs": [],
   "source": [
    "sample_list=[]\n",
    "for entry in os.listdir(directory):\n",
    "    sample={}\n",
    "    path = os.path.join(directory, entry)\n",
    "    if os.path.isdir(path):\n",
    "        with open(path+'/prompt.txt', 'r') as file:\n",
    "            sample['input']=file.read()\n",
    "        sample['bug_id']=entry\n",
    "        sample_list.append(sample)"
   ]
  },
  {
   "cell_type": "code",
   "execution_count": 89,
   "id": "83809d0c-4c4b-43b3-a09a-eb49c1f7cf27",
   "metadata": {},
   "outputs": [],
   "source": [
    "def get_repair_input(sample):\n",
    "    for sample1 in sample_list:\n",
    "        if sample1['bug_id']==sample['bug_id']:\n",
    "            sample['input']=sample1['input']\n",
    "    return sample"
   ]
  },
  {
   "cell_type": "code",
   "execution_count": 90,
   "id": "d4d0f1d7-836f-4ae1-8ce3-8a9fad1dab18",
   "metadata": {},
   "outputs": [
    {
     "data": {
      "application/vnd.jupyter.widget-view+json": {
       "model_id": "",
       "version_major": 2,
       "version_minor": 0
      },
      "text/plain": [
       "Map:   0%|          | 0/479 [00:00<?, ? examples/s]"
      ]
     },
     "metadata": {},
     "output_type": "display_data"
    },
    {
     "data": {
      "application/vnd.jupyter.widget-view+json": {
       "model_id": "",
       "version_major": 2,
       "version_minor": 0
      },
      "text/plain": [
       "Saving the dataset (0/1 shards):   0%|          | 0/479 [00:00<?, ? examples/s]"
      ]
     },
     "metadata": {},
     "output_type": "display_data"
    }
   ],
   "source": [
    "repairllama_dataset = base_dataset.map(get_repair_input)\n",
    "repairllama_dataset.save_to_disk('datasets/defects4j_repairllama')"
   ]
  },
  {
   "cell_type": "markdown",
   "id": "e41091c6-8606-4eca-a6c9-797338b3a33a",
   "metadata": {},
   "source": [
    "## classinfo dataset prepration"
   ]
  },
  {
   "cell_type": "code",
   "execution_count": 92,
   "id": "43e9ae2d-5240-4587-94dc-e2f949ae2d4a",
   "metadata": {},
   "outputs": [],
   "source": [
    "def remove_comments(java_code):\n",
    "    in_multiline_comment = False\n",
    "    result = []\n",
    "\n",
    "    for line in java_code.splitlines():\n",
    "        # Check for the start of a multiline comment\n",
    "        if \"/*\" in line:\n",
    "            in_multiline_comment = True\n",
    "\n",
    "        # Check for the end of a multiline comment\n",
    "        if \"*/\" in line:\n",
    "            in_multiline_comment = False\n",
    "            continue  # We skip the rest of the processing for this line\n",
    "\n",
    "        # If we are in a multiline comment, skip the line\n",
    "        if in_multiline_comment:\n",
    "            continue\n",
    "\n",
    "        # Check for single line comment\n",
    "        if \"//\" in line:\n",
    "            line = line.split(\"//\")[0]  # Remove the comment part\n",
    "\n",
    "        # Add the line if it's not empty after removing comments\n",
    "        if line.strip():\n",
    "            result.append(line)\n",
    "\n",
    "    return \"\\n\".join(result)\n"
   ]
  },
  {
   "cell_type": "code",
   "execution_count": 95,
   "id": "feadfc5d-9b12-441a-b591-0c844f440fd8",
   "metadata": {},
   "outputs": [],
   "source": [
    "def build_class_info(class_info):\n",
    "    if not class_info:\n",
    "        return ''\n",
    "    class_head, class_var, class_method=class_info['classHead'],class_info['memberVariables'],class_info['memberMethods']\n",
    "    class_info_prompt=class_head+\"{\\n\"+'\\n'.join(['    '+i for i in class_var])+\"\\n\"+'\\n'.join(['    '+i.replace('  ',' ') for i in class_method])+'\\n}'\n",
    "    return class_info_prompt"
   ]
  },
  {
   "cell_type": "code",
   "execution_count": 99,
   "id": "67679594-c83d-4ee7-9eb3-bd78b38fe62d",
   "metadata": {},
   "outputs": [],
   "source": [
    "def build_buggy_info(sample):\n",
    "    class_info=build_class_info(sample['classInformation'])\n",
    "    buggy, pre_context, post_context=sample['buggy_code'], sample['pre_context'], sample['post_context']\n",
    "    buggy, pre_context, post_context=remove_comments(buggy), remove_comments(pre_context), remove_comments(post_context)\n",
    "    sample['input']= '<PRE> // class information of method\\n'+class_info+'\\n\\n// method to be repaired\\n'+pre_context+'\\n// buggy lines\\n'+'\\n'.join(['// '+ i for i in buggy.split('\\n')])+\" <SUF>\"+post_context+' <MID>'\n",
    "    return sample"
   ]
  },
  {
   "cell_type": "code",
   "execution_count": 102,
   "id": "d6971fa5-be90-44d3-8b3e-cb7917013693",
   "metadata": {},
   "outputs": [
    {
     "data": {
      "application/vnd.jupyter.widget-view+json": {
       "model_id": "",
       "version_major": 2,
       "version_minor": 0
      },
      "text/plain": [
       "Map:   0%|          | 0/479 [00:00<?, ? examples/s]"
      ]
     },
     "metadata": {},
     "output_type": "display_data"
    }
   ],
   "source": [
    "classinfo_dataset=base_dataset.map(build_buggy_info)"
   ]
  },
  {
   "cell_type": "code",
   "execution_count": 104,
   "id": "1cbcf13c-2d82-44e4-aba5-1e33d547b12c",
   "metadata": {},
   "outputs": [
    {
     "data": {
      "application/vnd.jupyter.widget-view+json": {
       "model_id": "",
       "version_major": 2,
       "version_minor": 0
      },
      "text/plain": [
       "Saving the dataset (0/1 shards):   0%|          | 0/479 [00:00<?, ? examples/s]"
      ]
     },
     "metadata": {},
     "output_type": "display_data"
    }
   ],
   "source": [
    "classinfo_dataset.save_to_disk('datasets/defects4j_classinfo')"
   ]
  },
  {
   "cell_type": "code",
   "execution_count": 3,
   "id": "03162a44-3f5c-4933-a5b7-ae1c28e4d9d1",
   "metadata": {},
   "outputs": [],
   "source": [
    "dataset=load_from_disk('/Users/alex.wu/PycharmProjects/apr_datasets_processing/defects4j_validation/dataset_validated/defects4j_vanilla_gen_validation')"
   ]
  },
  {
   "cell_type": "code",
   "execution_count": null,
   "id": "7d4610b1-338a-49a7-bf67-76b41bb72387",
   "metadata": {},
   "outputs": [],
   "source": [
    "dataset['test_res']"
   ]
  },
  {
   "cell_type": "code",
   "execution_count": null,
   "id": "2fa0a3e2-4dfb-443a-9577-cc8563b8d56e",
   "metadata": {},
   "outputs": [],
   "source": []
  }
 ],
 "metadata": {
  "kernelspec": {
   "display_name": "Python 3 (ipykernel)",
   "language": "python",
   "name": "python3"
  },
  "language_info": {
   "codemirror_mode": {
    "name": "ipython",
    "version": 3
   },
   "file_extension": ".py",
   "mimetype": "text/x-python",
   "name": "python",
   "nbconvert_exporter": "python",
   "pygments_lexer": "ipython3",
   "version": "3.9.13"
  }
 },
 "nbformat": 4,
 "nbformat_minor": 5
}
