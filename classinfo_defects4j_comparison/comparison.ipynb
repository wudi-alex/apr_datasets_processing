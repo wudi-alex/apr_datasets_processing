{
 "cells": [
  {
   "cell_type": "code",
   "execution_count": 1,
   "id": "55d02c9e-cf18-480b-b45d-9e8b3a94a2af",
   "metadata": {
    "tags": []
   },
   "outputs": [],
   "source": [
    "from datasets import load_from_disk"
   ]
  },
  {
   "cell_type": "markdown",
   "id": "aa1fe09f-3b65-4d4a-93a8-5b1515f3087e",
   "metadata": {},
   "source": [
    "## 加载验证数据集"
   ]
  },
  {
   "cell_type": "code",
   "execution_count": 19,
   "id": "82d97bdf-9287-4376-a918-5480d6569c6c",
   "metadata": {
    "tags": []
   },
   "outputs": [],
   "source": [
    "def load_validation_dataset(dataset_name):\n",
    "    dataset=load_from_disk(f'../defects4j_validation/dataset_validated/{dataset_name}')\n",
    "    print(f' \\n==========\\n{dataset_name}\\n==========\\n',dataset)\n",
    "    return dataset"
   ]
  },
  {
   "cell_type": "code",
   "execution_count": null,
   "id": "fbeb20b6-8613-457f-834b-42c94aa9cb26",
   "metadata": {
    "tags": []
   },
   "outputs": [],
   "source": [
    "codellama_vanilla=load_validation_dataset('codellama_vanilla')\n",
    "codellama_classinfo=load_validation_dataset('codellama_classinfo')\n",
    "codellama_classinfo_lora=load_validation_dataset('codellama_classinfo_lora')\n",
    "codellama_no_classinfo_lora=load_validation_dataset('codellama_no_classinfo_lora')\n",
    "repairllama=load_validation_dataset('repairllama')\n",
    "repairllama_classinfo=load_validation_dataset('repairllama_classinfo')\n",
    "repairllama_classinfo_lora=load_validation_dataset('repairllama_classinfo_lora')"
   ]
  },
  {
   "cell_type": "code",
   "execution_count": 21,
   "id": "88b77dea-af07-4f7c-b142-52f18e7935fb",
   "metadata": {
    "tags": []
   },
   "outputs": [],
   "source": [
    "dataset_dict={\n",
    "    'codellama_vanilla':codellama_vanilla,\n",
    "    'codellama_classinfo':codellama_classinfo,\n",
    "    'codellama_classinfo_lora':codellama_classinfo_lora,\n",
    "    'codellama_no_classinfo_lora':codellama_no_classinfo_lora,\n",
    "    'repairllama':repairllama,\n",
    "    'repairllama_classinfo':repairllama_classinfo,\n",
    "    'repairllama_classinfo_lora':repairllama_classinfo_lora,\n",
    "}"
   ]
  },
  {
   "cell_type": "markdown",
   "id": "3da6e05c-3a9c-4af3-8295-8fb9ac97b2dd",
   "metadata": {},
   "source": [
    "## 统计correctness"
   ]
  },
  {
   "cell_type": "code",
   "execution_count": 22,
   "id": "ccc32b2b-eefd-4553-a24d-bf9b52c1d20c",
   "metadata": {
    "tags": []
   },
   "outputs": [],
   "source": [
    "def determine_correctness(correctness_list):\n",
    "    # 按优先级确定correctness\n",
    "    if 'plausible' in correctness_list:\n",
    "        return 'plausible'\n",
    "    elif 'wrong' in correctness_list:\n",
    "        return 'wrong'\n",
    "    elif 'uncompilable' in correctness_list:\n",
    "        return 'uncompilable'\n",
    "    else:\n",
    "        return 'timeout'  # 如果列表中没有已知的correctness值\n",
    "\n",
    "def statistics_by_correctness(dataset):\n",
    "    # 初始化一个字典来临时存储每个bug_id的所有correctness值\n",
    "    temp_result = {}\n",
    "    # 初始化最终结果字典\n",
    "    final_result = {}\n",
    "\n",
    "    # 收集每个bug_id的所有correctness值\n",
    "    for row in dataset:\n",
    "        bug_id = row['bug_id']\n",
    "        test_res_list = row['test_res']  # 这是一个列表，不是单个字典\n",
    "        if not test_res_list:\n",
    "            continue\n",
    "        if bug_id not in temp_result:\n",
    "            temp_result[bug_id] = []\n",
    "        # 遍历test_res_list中的每个字典\n",
    "        for test_res in test_res_list:\n",
    "            correctness = test_res['correctness']\n",
    "            temp_result[bug_id].append(correctness)\n",
    "\n",
    "    # 确定每个bug_id的最终correctness并组织最终结果\n",
    "    for bug_id, correctness_list in temp_result.items():\n",
    "        final_correctness = determine_correctness(correctness_list)\n",
    "        if final_correctness not in final_result:\n",
    "            final_result[final_correctness] = []\n",
    "        final_result[final_correctness].append(bug_id)\n",
    "\n",
    "    return final_result\n",
    "\n"
   ]
  },
  {
   "cell_type": "code",
   "execution_count": 30,
   "id": "327008ee-ce5a-4873-9c86-bce931758e55",
   "metadata": {
    "tags": []
   },
   "outputs": [
    {
     "name": "stdout",
     "output_type": "stream",
     "text": [
      "=========codellama_vanilla=========\n",
      "plausible: 116\n",
      "wrong: 238\n",
      "uncompilable: 119\n",
      "timeout or error 6\n",
      "=========codellama_classinfo=========\n",
      "plausible: 87\n",
      "wrong: 274\n",
      "uncompilable: 113\n",
      "timeout or error 5\n",
      "=========codellama_classinfo_lora=========\n",
      "plausible: 87\n",
      "wrong: 284\n",
      "uncompilable: 102\n",
      "timeout or error 6\n",
      "=========codellama_no_classinfo_lora=========\n",
      "plausible: 86\n",
      "wrong: 269\n",
      "uncompilable: 119\n",
      "timeout or error 5\n",
      "=========repairllama=========\n",
      "plausible: 114\n",
      "wrong: 254\n",
      "uncompilable: 106\n",
      "timeout or error 5\n",
      "=========repairllama_classinfo=========\n",
      "plausible: 114\n",
      "wrong: 255\n",
      "uncompilable: 104\n",
      "timeout or error 6\n",
      "=========repairllama_classinfo_lora=========\n",
      "plausible: 97\n",
      "wrong: 261\n",
      "uncompilable: 116\n",
      "timeout or error 5\n"
     ]
    }
   ],
   "source": [
    "res_dict={}\n",
    "for name in dataset_dict:\n",
    "    print(f'========={name}=========')\n",
    "    dataset= dataset_dict[name]\n",
    "    res=statistics_by_correctness(dataset)\n",
    "    lst=['plausible','wrong','uncompilable']\n",
    "    s=0\n",
    "    for i in lst:\n",
    "        print(f'{i}:', len(res[i]))\n",
    "        s+=len(res[i])\n",
    "    print('timeout or error', 479-s)\n",
    "    res_dict[name]=res"
   ]
  },
  {
   "cell_type": "code",
   "execution_count": 32,
   "id": "df783037-2d25-4721-834d-a0780c7c665d",
   "metadata": {
    "tags": []
   },
   "outputs": [
    {
     "name": "stdout",
     "output_type": "stream",
     "text": [
      "{'uncompilable': 2311, 'plausible': 380, 'wrong': 1852, 'timeout': 184}\n"
     ]
    }
   ],
   "source": [
    "def count_correctness(dataset):\n",
    "    # 初始化一个字典来计数不同correctness值的出现次数\n",
    "    correctness_count = {}\n",
    "\n",
    "    # 遍历数据集中的每一行\n",
    "    for row in dataset:\n",
    "        test_res_list = row['test_res']  # 获取当前bug_id的test_res列表\n",
    "        if not test_res_list:\n",
    "            continue\n",
    "        # 遍历test_res_list中的每个字典\n",
    "        for test_res in test_res_list:\n",
    "            correctness = test_res['correctness']\n",
    "            # 更新correctness值的出现次数\n",
    "            if correctness in correctness_count:\n",
    "                correctness_count[correctness] += 1\n",
    "            else:\n",
    "                correctness_count[correctness] = 1\n",
    "\n",
    "    return correctness_count\n",
    "\n",
    "\n",
    "# 调用函数并打印结果\n",
    "correctness_count = count_correctness(codellama_vanilla)\n",
    "print(correctness_count)\n"
   ]
  },
  {
   "cell_type": "code",
   "execution_count": 35,
   "id": "0f5caa55-1829-4491-8572-fc9c9ce113f1",
   "metadata": {
    "tags": []
   },
   "outputs": [
    {
     "name": "stdout",
     "output_type": "stream",
     "text": [
      "=========codellama_vanilla=========\n",
      "plausible: 380\n",
      "wrong: 1852\n",
      "uncompilable: 2311\n",
      "=========codellama_classinfo=========\n",
      "plausible: 246\n",
      "wrong: 1748\n",
      "uncompilable: 2624\n",
      "=========codellama_classinfo_lora=========\n",
      "plausible: 199\n",
      "wrong: 1845\n",
      "uncompilable: 2324\n",
      "=========codellama_no_classinfo_lora=========\n",
      "plausible: 210\n",
      "wrong: 1802\n",
      "uncompilable: 2449\n",
      "=========repairllama=========\n",
      "plausible: 342\n",
      "wrong: 1910\n",
      "uncompilable: 2246\n",
      "=========repairllama_classinfo=========\n",
      "plausible: 276\n",
      "wrong: 1689\n",
      "uncompilable: 2483\n",
      "=========repairllama_classinfo_lora=========\n",
      "plausible: 199\n",
      "wrong: 1585\n",
      "uncompilable: 2636\n"
     ]
    }
   ],
   "source": [
    "for name in dataset_dict:\n",
    "    print(f'========={name}=========')\n",
    "    dataset= dataset_dict[name]\n",
    "    res=count_correctness(dataset)\n",
    "    lst=['plausible','wrong','uncompilable']\n",
    "    for i in lst:\n",
    "        print(f'{i}:', res[i])"
   ]
  },
  {
   "cell_type": "code",
   "execution_count": null,
   "id": "0ff764a2-d510-4704-af0a-289751824ce2",
   "metadata": {},
   "outputs": [],
   "source": []
  }
 ],
 "metadata": {
  "kernelspec": {
   "display_name": "Python 3 (ipykernel)",
   "language": "python",
   "name": "python3"
  },
  "language_info": {
   "codemirror_mode": {
    "name": "ipython",
    "version": 3
   },
   "file_extension": ".py",
   "mimetype": "text/x-python",
   "name": "python",
   "nbconvert_exporter": "python",
   "pygments_lexer": "ipython3",
   "version": "3.11.5"
  }
 },
 "nbformat": 4,
 "nbformat_minor": 5
}
