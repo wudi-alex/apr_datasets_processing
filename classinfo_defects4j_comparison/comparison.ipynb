{
 "cells": [
  {
   "cell_type": "code",
   "execution_count": 14,
   "id": "55d02c9e-cf18-480b-b45d-9e8b3a94a2af",
   "metadata": {
    "tags": []
   },
   "outputs": [],
   "source": [
    "%matplotlib inline\n",
    "from datasets import load_from_disk\n",
    "from pyvenn import *"
   ]
  },
  {
   "cell_type": "markdown",
   "id": "aa1fe09f-3b65-4d4a-93a8-5b1515f3087e",
   "metadata": {},
   "source": [
    "## 加载验证数据集"
   ]
  },
  {
   "cell_type": "code",
   "execution_count": 6,
   "id": "82d97bdf-9287-4376-a918-5480d6569c6c",
   "metadata": {
    "tags": []
   },
   "outputs": [],
   "source": [
    "def load_validation_dataset(dataset_name):\n",
    "    dataset=load_from_disk(f'../defects4j_validation/dataset_validated/{dataset_name}')\n",
    "    print(f' \\n==========\\n{dataset_name}\\n==========\\n',dataset)\n",
    "    return dataset"
   ]
  },
  {
   "cell_type": "code",
   "execution_count": 7,
   "id": "fbeb20b6-8613-457f-834b-42c94aa9cb26",
   "metadata": {
    "tags": []
   },
   "outputs": [
    {
     "name": "stdout",
     "output_type": "stream",
     "text": [
      " \n",
      "==========\n",
      "codellama_vanilla\n",
      "==========\n",
      " Dataset({\n",
      "    features: ['methodInformation', 'involvedTypesInformation', 'filePath', 'classInformation', 'buggyInfo', 'projectName', 'bug_id', 'start_line', 'end_line', 'path', 'fix_code', 'pre_context', 'post_context', 'buggy_code', 'input', 'gen', 'test_res'],\n",
      "    num_rows: 479\n",
      "})\n",
      " \n",
      "==========\n",
      "codellama_classinfo\n",
      "==========\n",
      " Dataset({\n",
      "    features: ['methodInformation', 'involvedTypesInformation', 'filePath', 'classInformation', 'buggyInfo', 'projectName', 'bug_id', 'start_line', 'end_line', 'path', 'fix_code', 'pre_context', 'post_context', 'buggy_code', 'input', 'gen', 'test_res'],\n",
      "    num_rows: 479\n",
      "})\n",
      " \n",
      "==========\n",
      "codellama_classinfo_lora\n",
      "==========\n",
      " Dataset({\n",
      "    features: ['methodInformation', 'involvedTypesInformation', 'filePath', 'classInformation', 'buggyInfo', 'projectName', 'bug_id', 'start_line', 'end_line', 'path', 'fix_code', 'pre_context', 'post_context', 'buggy_code', 'input', 'gen', 'test_res'],\n",
      "    num_rows: 479\n",
      "})\n",
      " \n",
      "==========\n",
      "codellama_no_classinfo_lora\n",
      "==========\n",
      " Dataset({\n",
      "    features: ['methodInformation', 'involvedTypesInformation', 'filePath', 'classInformation', 'buggyInfo', 'projectName', 'bug_id', 'start_line', 'end_line', 'path', 'fix_code', 'pre_context', 'post_context', 'buggy_code', 'input', 'gen', 'test_res'],\n",
      "    num_rows: 479\n",
      "})\n",
      " \n",
      "==========\n",
      "repairllama\n",
      "==========\n",
      " Dataset({\n",
      "    features: ['methodInformation', 'involvedTypesInformation', 'filePath', 'classInformation', 'buggyInfo', 'projectName', 'bug_id', 'start_line', 'end_line', 'path', 'fix_code', 'pre_context', 'post_context', 'buggy_code', 'input', 'gen', 'test_res'],\n",
      "    num_rows: 479\n",
      "})\n",
      " \n",
      "==========\n",
      "repairllama_classinfo\n",
      "==========\n",
      " Dataset({\n",
      "    features: ['methodInformation', 'involvedTypesInformation', 'filePath', 'classInformation', 'buggyInfo', 'projectName', 'bug_id', 'start_line', 'end_line', 'path', 'fix_code', 'pre_context', 'post_context', 'buggy_code', 'input', 'gen', 'test_res'],\n",
      "    num_rows: 479\n",
      "})\n",
      " \n",
      "==========\n",
      "repairllama_classinfo_lora\n",
      "==========\n",
      " Dataset({\n",
      "    features: ['methodInformation', 'involvedTypesInformation', 'filePath', 'classInformation', 'buggyInfo', 'projectName', 'bug_id', 'start_line', 'end_line', 'path', 'fix_code', 'pre_context', 'post_context', 'buggy_code', 'input', 'gen', 'test_res'],\n",
      "    num_rows: 479\n",
      "})\n"
     ]
    }
   ],
   "source": [
    "codellama_vanilla=load_validation_dataset('codellama_vanilla')\n",
    "codellama_classinfo=load_validation_dataset('codellama_classinfo')\n",
    "codellama_classinfo_lora=load_validation_dataset('codellama_classinfo_lora')\n",
    "codellama_no_classinfo_lora=load_validation_dataset('codellama_no_classinfo_lora')\n",
    "repairllama=load_validation_dataset('repairllama')\n",
    "repairllama_classinfo=load_validation_dataset('repairllama_classinfo')\n",
    "repairllama_classinfo_lora=load_validation_dataset('')"
   ]
  },
  {
   "cell_type": "code",
   "execution_count": 8,
   "id": "88b77dea-af07-4f7c-b142-52f18e7935fb",
   "metadata": {
    "tags": []
   },
   "outputs": [],
   "source": [
    "dataset_dict={\n",
    "    'codellama_vanilla':codellama_vanilla,\n",
    "    'codellama_classinfo':codellama_classinfo,\n",
    "    'codellama_classinfo_lora':codellama_classinfo_lora,\n",
    "    'codellama_no_classinfo_lora':codellama_no_classinfo_lora,\n",
    "    'repairllama':repairllama,\n",
    "    'repairllama_classinfo':repairllama_classinfo,\n",
    "    'repairllama_classinfo_lora':repairllama_classinfo_lora,\n",
    "}"
   ]
  },
  {
   "cell_type": "code",
   "execution_count": null,
   "id": "12e4b365-6b3c-44a4-8aeb-078cf380fdbb",
   "metadata": {
    "tags": []
   },
   "outputs": [],
   "source": [
    "print(\" public static Locale toLocale(final String str) {\\n        if (str == null) {\\n            return null;\\n        }\\n        final int len = str.length();\\n        if (len < 2) {\\n            throw new IllegalArgumentException(\\\"Invalid locale format: \\\" + str);\\n        }\\n        final char ch0 = str.charAt(0);\\n// buggy code\\n//             final char ch1 = str.charAt(1);\\n//             if (!Character.isLowerCase(ch0) || !Character.isLowerCase(ch1)) {\\n//                 throw new IllegalArgumentException(\\\"Invalid locale format: \\\" + str);\\n//             }\\n//             if (len == 2) {\\n//                 return new Locale(str);\\n//             }\\n//             if (len < 5) {\\n//                 throw new IllegalArgumentException(\\\"Invalid locale format: \\\" + str);\\n//             }\\n//             if (str.charAt(2) != '_') {\\n//                 throw new IllegalArgumentException(\\\"Invalid locale format: \\\" + str);\\n//             }\\n//             final char ch3 = str.charAt(3);\\n//             if (ch3 == '_') {\\n//                 return new Locale(str.substring(0, 2), \\\"\\\", str.substring(4));\\n//             }\\n//             final char ch4 = str.charAt(4);\\n//             if (!Character.isUpperCase(ch3) || !Character.isUpperCase(ch4)) {\\n//                 throw new IllegalArgumentException(\\\"Invalid locale format: \\\" + str);\\n//             }\\n//             if (len == 5) {\\n//                 return new Locale(str.substring(0, 2), str.substring(3, 5));\\n//             }\\n//             if (len < 7) {\\n//                 throw new IllegalArgumentException(\\\"Invalid locale format: \\\" + str);\\n//             }\\n//             if (str.charAt(5) != '_') {\\n//                 throw new IllegalArgumentException(\\\"Invalid locale format: \\\" + str);\\n//             }\\n//             return new Locale(str.substring(0, 2), str.substring(3, 5), str.substring(6));\\n       final char ch1 = str.charAt(1);\\n        if (!Character.isLowerCase(ch0) || !Character.isLowerCase(ch1)) {\\n            throw new IllegalArgumentException(\\\"Invalid locale format: \\\" + str);\\n        }\\n        if (len == 2) {\\n            return new Locale(str);\\n        }\\n        if (len < 5) {\\n            throw new IllegalArgumentException(\\\"Invalid locale format: \\\" + str);\\n        }\\n        if (str.charAt(2) != '_') {\\n            throw new IllegalArgumentException(\\\"Invalid locale format: \\\" + str);\\n        }\\n        final char ch3 = str.charAt(3);\\n        if (ch3 == '_') {\\n            return new Locale(str.substring(0, 2), \\\"\\\", str.substring(4));\\n        }\\n        final char ch4 = str.charAt(4);\\n        if (!Character.isUpperCase(ch3) || !Character.isUpperCase(ch4)) {\\n            throw new IllegalArgumentException(\\\"Invalid locale format: \\\" + str);\\n        }\\n           }\\n\")"
   ]
  },
  {
   "cell_type": "markdown",
   "id": "3da6e05c-3a9c-4af3-8295-8fb9ac97b2dd",
   "metadata": {},
   "source": [
    "## 统计correctness"
   ]
  },
  {
   "cell_type": "code",
   "execution_count": 9,
   "id": "ccc32b2b-eefd-4553-a24d-bf9b52c1d20c",
   "metadata": {
    "tags": []
   },
   "outputs": [],
   "source": [
    "def determine_correctness(correctness_list):\n",
    "    # 按优先级确定correctness\n",
    "    if 'plausible' in correctness_list:\n",
    "        return 'plausible'\n",
    "    elif 'wrong' in correctness_list:\n",
    "        return 'wrong'\n",
    "    elif 'uncompilable' in correctness_list:\n",
    "        return 'uncompilable'\n",
    "    else:\n",
    "        return 'timeout'  # 如果列表中没有已知的correctness值\n",
    "\n",
    "def statistics_by_correctness(dataset):\n",
    "    # 初始化一个字典来临时存储每个bug_id的所有correctness值\n",
    "    temp_result = {}\n",
    "    # 初始化最终结果字典\n",
    "    final_result = {}\n",
    "\n",
    "    # 收集每个bug_id的所有correctness值\n",
    "    for row in dataset:\n",
    "        bug_id = row['bug_id']\n",
    "        test_res_list = row['test_res']  # 这是一个列表，不是单个字典\n",
    "        if not test_res_list:\n",
    "            continue\n",
    "        if bug_id not in temp_result:\n",
    "            temp_result[bug_id] = []\n",
    "        # 遍历test_res_list中的每个字典\n",
    "        for test_res in test_res_list:\n",
    "            correctness = test_res['correctness']\n",
    "            temp_result[bug_id].append(correctness)\n",
    "\n",
    "    # 确定每个bug_id的最终correctness并组织最终结果\n",
    "    for bug_id, correctness_list in temp_result.items():\n",
    "        final_correctness = determine_correctness(correctness_list)\n",
    "        if final_correctness not in final_result:\n",
    "            final_result[final_correctness] = []\n",
    "        final_result[final_correctness].append(bug_id)\n",
    "\n",
    "    return final_result\n",
    "\n"
   ]
  },
  {
   "cell_type": "code",
   "execution_count": 23,
   "id": "327008ee-ce5a-4873-9c86-bce931758e55",
   "metadata": {
    "tags": []
   },
   "outputs": [
    {
     "name": "stdout",
     "output_type": "stream",
     "text": [
      "=========codellama_vanilla=========\n",
      "plausible: 116\n",
      "wrong: 238\n",
      "uncompilable: 119\n",
      "timeout or error 6\n",
      "=========codellama_classinfo=========\n",
      "plausible: 87\n",
      "wrong: 274\n",
      "uncompilable: 113\n",
      "timeout or error 5\n",
      "=========codellama_classinfo_lora=========\n",
      "plausible: 87\n",
      "wrong: 284\n",
      "uncompilable: 102\n",
      "timeout or error 6\n",
      "=========codellama_no_classinfo_lora=========\n",
      "plausible: 86\n",
      "wrong: 269\n",
      "uncompilable: 119\n",
      "timeout or error 5\n",
      "=========repairllama=========\n",
      "plausible: 114\n",
      "wrong: 254\n",
      "uncompilable: 106\n",
      "timeout or error 5\n",
      "=========repairllama_classinfo=========\n",
      "plausible: 114\n",
      "wrong: 255\n",
      "uncompilable: 104\n",
      "timeout or error 6\n",
      "=========repairllama_classinfo_lora=========\n",
      "plausible: 97\n",
      "wrong: 261\n",
      "uncompilable: 116\n",
      "timeout or error 5\n"
     ]
    }
   ],
   "source": [
    "res_dict={}\n",
    "for name in dataset_dict:\n",
    "    print(f'========={name}=========')\n",
    "    dataset= dataset_dict[name]\n",
    "    res=statistics_by_correctness(dataset)\n",
    "    lst=['plausible','wrong','uncompilable']\n",
    "    s=0\n",
    "    for i in lst:\n",
    "        print(f'{i}:', len(res[i]))\n",
    "        s+=len(res[i])\n",
    "    print('timeout or error', 479-s)\n",
    "    res_dict[name]=res"
   ]
  },
  {
   "cell_type": "markdown",
   "id": "a079d2d7-e375-4c0b-a457-f169dcba46c3",
   "metadata": {
    "tags": []
   },
   "source": [
    "def count_correctness(dataset):\n",
    "    # 初始化一个字典来计数不同correctness值的出现次数\n",
    "    correctness_count = {}\n",
    "\n",
    "    # 遍历数据集中的每一行\n",
    "    for row in dataset:\n",
    "        test_res_list = row['test_res']  # 获取当前bug_id的test_res列表\n",
    "        if not test_res_list:\n",
    "            continue\n",
    "        # 遍历test_res_list中的每个字典\n",
    "        for test_res in test_res_list:\n",
    "            correctness = test_res['correctness']\n",
    "            # 更新correctness值的出现次数\n",
    "            if correctness in correctness_count:\n",
    "                correctness_count[correctness] += 1\n",
    "            else:\n",
    "                correctness_count[correctness] = 1\n",
    "\n",
    "    return correctness_count\n",
    "\n",
    "\n",
    "# 调用函数并打印结果\n",
    "correctness_count = count_correctness(repairllama_classinfo_lora)\n",
    "print(correctness_count)\n"
   ]
  },
  {
   "cell_type": "markdown",
   "id": "586c36e5-84c0-4b62-81ed-895b128f3eaa",
   "metadata": {
    "tags": []
   },
   "source": [
    "## unique bug_id"
   ]
  },
  {
   "cell_type": "code",
   "execution_count": 36,
   "id": "32577230-5301-4b91-8a7d-23727e84d6d4",
   "metadata": {
    "tags": []
   },
   "outputs": [
    {
     "name": "stdout",
     "output_type": "stream",
     "text": [
      "{'codellama_vanilla': ['Csv-14', 'Csv-15', 'Compress-41', 'Chart-10', 'Closure-78', 'Mockito-22', 'Gson-18', 'Compress-26', 'Closure-58', 'Lang-37', 'Chart-24', 'Compress-32'], 'codellama_classinfo': ['JacksonXml-4', 'Lang-40'], 'codellama_classinfo_lora': ['Closure-109', 'Lang-38'], 'codellama_no_classinfo_lora': ['Closure-124', 'Jsoup-49'], 'repairllama': ['Compress-24', 'Closure-65', 'Time-18', 'Cli-37', 'Compress-44'], 'repairllama_classinfo': ['JacksonDatabind-24', 'Lang-16', 'JacksonDatabind-39', 'Lang-55'], 'repairllama_classinfo_lora': ['Math-105', 'Codec-2', 'Csv-5']}\n"
     ]
    }
   ],
   "source": [
    "def find_unique_plausible_ids(res_dict):\n",
    "    # 初始化一个字典来存储最终结果\n",
    "    unique_plausible_ids = {dataset: [] for dataset in res_dict}\n",
    "\n",
    "    # 遍历每个数据集，找到每个数据集中的plausible bug_id\n",
    "    for dataset, correctness_dict in res_dict.items():\n",
    "        plausible_ids = correctness_dict.get('plausible', [])\n",
    "        \n",
    "        # 对于每个plausible的bug_id，检查它是否在其他数据集中出现过\n",
    "        for bug_id in plausible_ids:\n",
    "            is_unique = True  # 假设当前bug_id是唯一的，直到证明它在其他数据集中出现过\n",
    "            \n",
    "            # 检查其他数据集\n",
    "            for other_dataset, other_correctness_dict in res_dict.items():\n",
    "                if dataset == other_dataset:\n",
    "                    continue  # 跳过当前正在检查的数据集\n",
    "                # 如果bug_id在其他数据集的任何correctness下出现，则不是唯一的\n",
    "                if any(bug_id in ids for ids in other_correctness_dict['plausible']):\n",
    "                    is_unique = False\n",
    "                    break  # 一旦找到重复项，就停止检查当前bug_id\n",
    "            \n",
    "            # 如果当前bug_id是唯一的，则添加到结果字典中\n",
    "            if is_unique:\n",
    "                unique_plausible_ids[dataset].append(bug_id)\n",
    "\n",
    "    return unique_plausible_ids\n",
    "\n",
    "\n",
    "# 调用函数并打印结果\n",
    "unique_plausible_ids = find_unique_plausible_ids(res_dict)\n",
    "print(unique_plausible_ids)\n"
   ]
  },
  {
   "cell_type": "code",
   "execution_count": null,
   "id": "cc1c58b3-48d1-4d1d-8b0d-aa277646a6c2",
   "metadata": {},
   "outputs": [],
   "source": [
    "print('unique bug_id results')\n",
    "for name in unique_plausible_ids:\n",
    "    id_lst=unique_plausible_ids[name]\n",
    "    dataset=dataset_dict[name]\n",
    "    \n",
    "    print(f'========={name}=========\\n\\n')\n",
    "    for ids in id_lst:\n",
    "        sample=dataset.filter(lambda x:x['bug_id']==ids)[0]\n",
    "        print(f'------{ids}-------')\n",
    "        print(sample['input'])\n",
    "        print('fix: ', sample['fix_code'])\n",
    "        for i in sample['test_res']\n",
    "        print()\n",
    "    "
   ]
  }
 ],
 "metadata": {
  "kernelspec": {
   "display_name": "Python 3 (ipykernel)",
   "language": "python",
   "name": "python3"
  },
  "language_info": {
   "codemirror_mode": {
    "name": "ipython",
    "version": 3
   },
   "file_extension": ".py",
   "mimetype": "text/x-python",
   "name": "python",
   "nbconvert_exporter": "python",
   "pygments_lexer": "ipython3",
   "version": "3.11.5"
  }
 },
 "nbformat": 4,
 "nbformat_minor": 5
}
