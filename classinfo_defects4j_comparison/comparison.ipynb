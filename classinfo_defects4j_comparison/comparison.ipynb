{
 "cells": [
  {
   "cell_type": "code",
   "execution_count": 14,
   "id": "55d02c9e-cf18-480b-b45d-9e8b3a94a2af",
   "metadata": {
    "tags": []
   },
   "outputs": [],
   "source": [
    "%matplotlib inline\n",
    "from datasets import load_from_disk\n",
    "from pyvenn import *"
   ]
  },
  {
   "cell_type": "markdown",
   "id": "aa1fe09f-3b65-4d4a-93a8-5b1515f3087e",
   "metadata": {},
   "source": [
    "## 加载验证数据集"
   ]
  },
  {
   "cell_type": "code",
   "execution_count": 6,
   "id": "82d97bdf-9287-4376-a918-5480d6569c6c",
   "metadata": {
    "tags": []
   },
   "outputs": [],
   "source": [
    "def load_validation_dataset(dataset_name):\n",
    "    dataset=load_from_disk(f'../defects4j_validation/dataset_validated/{dataset_name}')\n",
    "    print(f' \\n==========\\n{dataset_name}\\n==========\\n',dataset)\n",
    "    return dataset"
   ]
  },
  {
   "cell_type": "code",
   "execution_count": 7,
   "id": "fbeb20b6-8613-457f-834b-42c94aa9cb26",
   "metadata": {
    "tags": []
   },
   "outputs": [
    {
     "name": "stdout",
     "output_type": "stream",
     "text": [
      " \n",
      "==========\n",
      "codellama_vanilla\n",
      "==========\n",
      " Dataset({\n",
      "    features: ['methodInformation', 'involvedTypesInformation', 'filePath', 'classInformation', 'buggyInfo', 'projectName', 'bug_id', 'start_line', 'end_line', 'path', 'fix_code', 'pre_context', 'post_context', 'buggy_code', 'input', 'gen', 'test_res'],\n",
      "    num_rows: 479\n",
      "})\n",
      " \n",
      "==========\n",
      "codellama_classinfo\n",
      "==========\n",
      " Dataset({\n",
      "    features: ['methodInformation', 'involvedTypesInformation', 'filePath', 'classInformation', 'buggyInfo', 'projectName', 'bug_id', 'start_line', 'end_line', 'path', 'fix_code', 'pre_context', 'post_context', 'buggy_code', 'input', 'gen', 'test_res'],\n",
      "    num_rows: 479\n",
      "})\n",
      " \n",
      "==========\n",
      "codellama_classinfo_lora\n",
      "==========\n",
      " Dataset({\n",
      "    features: ['methodInformation', 'involvedTypesInformation', 'filePath', 'classInformation', 'buggyInfo', 'projectName', 'bug_id', 'start_line', 'end_line', 'path', 'fix_code', 'pre_context', 'post_context', 'buggy_code', 'input', 'gen', 'test_res'],\n",
      "    num_rows: 479\n",
      "})\n",
      " \n",
      "==========\n",
      "codellama_no_classinfo_lora\n",
      "==========\n",
      " Dataset({\n",
      "    features: ['methodInformation', 'involvedTypesInformation', 'filePath', 'classInformation', 'buggyInfo', 'projectName', 'bug_id', 'start_line', 'end_line', 'path', 'fix_code', 'pre_context', 'post_context', 'buggy_code', 'input', 'gen', 'test_res'],\n",
      "    num_rows: 479\n",
      "})\n",
      " \n",
      "==========\n",
      "repairllama\n",
      "==========\n",
      " Dataset({\n",
      "    features: ['methodInformation', 'involvedTypesInformation', 'filePath', 'classInformation', 'buggyInfo', 'projectName', 'bug_id', 'start_line', 'end_line', 'path', 'fix_code', 'pre_context', 'post_context', 'buggy_code', 'input', 'gen', 'test_res'],\n",
      "    num_rows: 479\n",
      "})\n",
      " \n",
      "==========\n",
      "repairllama_classinfo\n",
      "==========\n",
      " Dataset({\n",
      "    features: ['methodInformation', 'involvedTypesInformation', 'filePath', 'classInformation', 'buggyInfo', 'projectName', 'bug_id', 'start_line', 'end_line', 'path', 'fix_code', 'pre_context', 'post_context', 'buggy_code', 'input', 'gen', 'test_res'],\n",
      "    num_rows: 479\n",
      "})\n",
      " \n",
      "==========\n",
      "repairllama_classinfo_lora\n",
      "==========\n",
      " Dataset({\n",
      "    features: ['methodInformation', 'involvedTypesInformation', 'filePath', 'classInformation', 'buggyInfo', 'projectName', 'bug_id', 'start_line', 'end_line', 'path', 'fix_code', 'pre_context', 'post_context', 'buggy_code', 'input', 'gen', 'test_res'],\n",
      "    num_rows: 479\n",
      "})\n"
     ]
    }
   ],
   "source": [
    "codellama_vanilla=load_validation_dataset('codellama_vanilla')\n",
    "codellama_classinfo=load_validation_dataset('codellama_classinfo')\n",
    "codellama_classinfo_lora=load_validation_dataset('codellama_classinfo_lora')\n",
    "codellama_no_classinfo_lora=load_validation_dataset('codellama_no_classinfo_lora')\n",
    "repairllama=load_validation_dataset('repairllama')\n",
    "repairllama_classinfo=load_validation_dataset('repairllama_classinfo')\n",
    "repairllama_classinfo_lora=load_validation_dataset('repairllama_classinfo_lora')"
   ]
  },
  {
   "cell_type": "code",
   "execution_count": 8,
   "id": "88b77dea-af07-4f7c-b142-52f18e7935fb",
   "metadata": {
    "tags": []
   },
   "outputs": [],
   "source": [
    "dataset_dict={\n",
    "    'codellama_vanilla':codellama_vanilla,\n",
    "    'codellama_classinfo':codellama_classinfo,\n",
    "    'codellama_classinfo_lora':codellama_classinfo_lora,\n",
    "    'codellama_no_classinfo_lora':codellama_no_classinfo_lora,\n",
    "    'repairllama':repairllama,\n",
    "    'repairllama_classinfo':repairllama_classinfo,\n",
    "    'repairllama_classinfo_lora':repairllama_classinfo_lora,\n",
    "}"
   ]
  },
  {
   "cell_type": "code",
   "execution_count": 32,
   "id": "12e4b365-6b3c-44a4-8aeb-078cf380fdbb",
   "metadata": {
    "tags": []
   },
   "outputs": [
    {
     "name": "stdout",
     "output_type": "stream",
     "text": [
      "    public char[] expandCurrentSegment()\n",
      "    {\n",
      "        final char[] curr = _currentSegment;\n",
      "        final int len = curr.length;\n",
      "// buggy code\n",
      "//        int newLen = (len == MAX_SEGMENT_LEN) ? (MAX_SEGMENT_LEN+1) : Math.min(MAX_SEGMENT_LEN, len + (len >> 1));\n",
      "<FILL_ME>\n",
      "        return (_currentSegment = Arrays.copyOf(curr, newLen));\n",
      "    }\n",
      "\n"
     ]
    }
   ],
   "source": [
    "print(repairllama[0]['input'])"
   ]
  },
  {
   "cell_type": "markdown",
   "id": "3da6e05c-3a9c-4af3-8295-8fb9ac97b2dd",
   "metadata": {},
   "source": [
    "## 统计correctness"
   ]
  },
  {
   "cell_type": "code",
   "execution_count": 9,
   "id": "ccc32b2b-eefd-4553-a24d-bf9b52c1d20c",
   "metadata": {
    "tags": []
   },
   "outputs": [],
   "source": [
    "def determine_correctness(correctness_list):\n",
    "    # 按优先级确定correctness\n",
    "    if 'plausible' in correctness_list:\n",
    "        return 'plausible'\n",
    "    elif 'wrong' in correctness_list:\n",
    "        return 'wrong'\n",
    "    elif 'uncompilable' in correctness_list:\n",
    "        return 'uncompilable'\n",
    "    else:\n",
    "        return 'timeout'  # 如果列表中没有已知的correctness值\n",
    "\n",
    "def statistics_by_correctness(dataset):\n",
    "    # 初始化一个字典来临时存储每个bug_id的所有correctness值\n",
    "    temp_result = {}\n",
    "    # 初始化最终结果字典\n",
    "    final_result = {}\n",
    "\n",
    "    # 收集每个bug_id的所有correctness值\n",
    "    for row in dataset:\n",
    "        bug_id = row['bug_id']\n",
    "        test_res_list = row['test_res']  # 这是一个列表，不是单个字典\n",
    "        if not test_res_list:\n",
    "            continue\n",
    "        if bug_id not in temp_result:\n",
    "            temp_result[bug_id] = []\n",
    "        # 遍历test_res_list中的每个字典\n",
    "        for test_res in test_res_list:\n",
    "            correctness = test_res['correctness']\n",
    "            temp_result[bug_id].append(correctness)\n",
    "\n",
    "    # 确定每个bug_id的最终correctness并组织最终结果\n",
    "    for bug_id, correctness_list in temp_result.items():\n",
    "        final_correctness = determine_correctness(correctness_list)\n",
    "        if final_correctness not in final_result:\n",
    "            final_result[final_correctness] = []\n",
    "        final_result[final_correctness].append(bug_id)\n",
    "\n",
    "    return final_result\n",
    "\n"
   ]
  },
  {
   "cell_type": "code",
   "execution_count": 23,
   "id": "327008ee-ce5a-4873-9c86-bce931758e55",
   "metadata": {
    "tags": []
   },
   "outputs": [
    {
     "name": "stdout",
     "output_type": "stream",
     "text": [
      "=========codellama_vanilla=========\n",
      "plausible: 116\n",
      "wrong: 238\n",
      "uncompilable: 119\n",
      "timeout or error 6\n",
      "=========codellama_classinfo=========\n",
      "plausible: 87\n",
      "wrong: 274\n",
      "uncompilable: 113\n",
      "timeout or error 5\n",
      "=========codellama_classinfo_lora=========\n",
      "plausible: 87\n",
      "wrong: 284\n",
      "uncompilable: 102\n",
      "timeout or error 6\n",
      "=========codellama_no_classinfo_lora=========\n",
      "plausible: 86\n",
      "wrong: 269\n",
      "uncompilable: 119\n",
      "timeout or error 5\n",
      "=========repairllama=========\n",
      "plausible: 114\n",
      "wrong: 254\n",
      "uncompilable: 106\n",
      "timeout or error 5\n",
      "=========repairllama_classinfo=========\n",
      "plausible: 114\n",
      "wrong: 255\n",
      "uncompilable: 104\n",
      "timeout or error 6\n",
      "=========repairllama_classinfo_lora=========\n",
      "plausible: 97\n",
      "wrong: 261\n",
      "uncompilable: 116\n",
      "timeout or error 5\n"
     ]
    }
   ],
   "source": [
    "res_dict={}\n",
    "for name in dataset_dict:\n",
    "    print(f'========={name}=========')\n",
    "    dataset= dataset_dict[name]\n",
    "    res=statistics_by_correctness(dataset)\n",
    "    lst=['plausible','wrong','uncompilable']\n",
    "    s=0\n",
    "    for i in lst:\n",
    "        print(f'{i}:', len(res[i]))\n",
    "        s+=len(res[i])\n",
    "    print('timeout or error', 479-s)\n",
    "    res_dict[name]=res"
   ]
  },
  {
   "cell_type": "code",
   "execution_count": 28,
   "id": "df783037-2d25-4721-834d-a0780c7c665d",
   "metadata": {
    "tags": []
   },
   "outputs": [
    {
     "name": "stdout",
     "output_type": "stream",
     "text": [
      "{'uncompilable': 2636, 'wrong': 1585, 'plausible': 199, 'timeout': 60}\n"
     ]
    }
   ],
   "source": [
    "def count_correctness(dataset):\n",
    "    # 初始化一个字典来计数不同correctness值的出现次数\n",
    "    correctness_count = {}\n",
    "\n",
    "    # 遍历数据集中的每一行\n",
    "    for row in dataset:\n",
    "        test_res_list = row['test_res']  # 获取当前bug_id的test_res列表\n",
    "        if not test_res_list:\n",
    "            continue\n",
    "        # 遍历test_res_list中的每个字典\n",
    "        for test_res in test_res_list:\n",
    "            correctness = test_res['correctness']\n",
    "            # 更新correctness值的出现次数\n",
    "            if correctness in correctness_count:\n",
    "                correctness_count[correctness] += 1\n",
    "            else:\n",
    "                correctness_count[correctness] = 1\n",
    "\n",
    "    return correctness_count\n",
    "\n",
    "\n",
    "# 调用函数并打印结果\n",
    "correctness_count = count_correctness(repairllama_classinfo_lora)\n",
    "print(correctness_count)\n"
   ]
  },
  {
   "cell_type": "markdown",
   "id": "586c36e5-84c0-4b62-81ed-895b128f3eaa",
   "metadata": {
    "tags": []
   },
   "source": [
    "## bug_id韦恩图"
   ]
  },
  {
   "cell_type": "code",
   "execution_count": null,
   "id": "32577230-5301-4b91-8a7d-23727e84d6d4",
   "metadata": {},
   "outputs": [],
   "source": []
  },
  {
   "cell_type": "code",
   "execution_count": 31,
   "id": "2aa27297-ce15-4f27-8e04-69b75a816bd1",
   "metadata": {
    "tags": []
   },
   "outputs": [
    {
     "data": {
      "image/png": "[encoded data removed]",
      "text/plain": [
       "<Figure size 1000x700 with 1 Axes>"
      ]
     },
     "metadata": {},
     "output_type": "display_data"
    }
   ],
   "source": [
    "from matplotlib_venn import venn2\n",
    "import matplotlib.pyplot as plt\n",
    "\n",
    "# 示例res_dict，包含两个数据集的plausible bug_id\n",
    "res = {\n",
    "    'repairllama': {'plausible': res_dict['repairllama']['plausible']},\n",
    "    'repairllama_classinfo_lora': {'plausible': res_dict['repairllama_classinfo_lora']['plausible']},\n",
    "}\n",
    "\n",
    "def draw_venn_for_plausible(res_dict):\n",
    "    # 提取每个数据集中plausible的bug_id\n",
    "    datasets_plausible = {dataset: data.get('plausible', []) for dataset, data in res.items()}\n",
    "    \n",
    "    # 计算重合与不重合的id数量\n",
    "    # 由于示例中只有两个数据集，我们直接使用这两个数据集的名称\n",
    "    dataset_names = list(datasets_plausible.keys())\n",
    "    set1 = set(datasets_plausible[dataset_names[0]])\n",
    "    set2 = set(datasets_plausible[dataset_names[1]])\n",
    "    \n",
    "    # 绘制维恩图\n",
    "    plt.figure(figsize=(10, 7))\n",
    "    venn2([set1, set2], set_labels=(dataset_names[0], dataset_names[1]))\n",
    "    plt.title('Plausible bug_id Venn Diagram')\n",
    "    plt.show()\n",
    "\n",
    "# 调用函数绘制维恩图\n",
    "draw_venn_for_plausible(res_dict)\n"
   ]
  },
  {
   "cell_type": "code",
   "execution_count": 26,
   "id": "b1039cfa-2d6f-4a07-b1fa-6ca6a65147bc",
   "metadata": {
    "tags": []
   },
   "outputs": [
    {
     "ename": "AttributeError",
     "evalue": "module 'plotly.graph_objs' has no attribute 'Venn'",
     "output_type": "error",
     "traceback": [
      "\u001b[1;31m---------------------------------------------------------------------------\u001b[0m",
      "\u001b[1;31mAttributeError\u001b[0m                            Traceback (most recent call last)",
      "Cell \u001b[1;32mIn[26], line 7\u001b[0m\n\u001b[0;32m      4\u001b[0m B \u001b[38;5;241m=\u001b[39m \u001b[38;5;28mset\u001b[39m([\u001b[38;5;124m'\u001b[39m\u001b[38;5;124mc\u001b[39m\u001b[38;5;124m'\u001b[39m, \u001b[38;5;124m'\u001b[39m\u001b[38;5;124md\u001b[39m\u001b[38;5;124m'\u001b[39m, \u001b[38;5;124m'\u001b[39m\u001b[38;5;124me\u001b[39m\u001b[38;5;124m'\u001b[39m, \u001b[38;5;124m'\u001b[39m\u001b[38;5;124mf\u001b[39m\u001b[38;5;124m'\u001b[39m])\n\u001b[0;32m      5\u001b[0m C \u001b[38;5;241m=\u001b[39m \u001b[38;5;28mset\u001b[39m([\u001b[38;5;124m'\u001b[39m\u001b[38;5;124mc\u001b[39m\u001b[38;5;124m'\u001b[39m, \u001b[38;5;124m'\u001b[39m\u001b[38;5;124mf\u001b[39m\u001b[38;5;124m'\u001b[39m, \u001b[38;5;124m'\u001b[39m\u001b[38;5;124mg\u001b[39m\u001b[38;5;124m'\u001b[39m, \u001b[38;5;124m'\u001b[39m\u001b[38;5;124mh\u001b[39m\u001b[38;5;124m'\u001b[39m])\n\u001b[1;32m----> 7\u001b[0m fig \u001b[38;5;241m=\u001b[39m go\u001b[38;5;241m.\u001b[39mFigure(go\u001b[38;5;241m.\u001b[39mVenn(\n\u001b[0;32m      8\u001b[0m     sets\u001b[38;5;241m=\u001b[39m[A, B, C],\n\u001b[0;32m      9\u001b[0m     set_colors\u001b[38;5;241m=\u001b[39m(\u001b[38;5;124m'\u001b[39m\u001b[38;5;124mred\u001b[39m\u001b[38;5;124m'\u001b[39m, \u001b[38;5;124m'\u001b[39m\u001b[38;5;124mgreen\u001b[39m\u001b[38;5;124m'\u001b[39m, \u001b[38;5;124m'\u001b[39m\u001b[38;5;124mblue\u001b[39m\u001b[38;5;124m'\u001b[39m),\n\u001b[0;32m     10\u001b[0m     subset_colors\u001b[38;5;241m=\u001b[39m(\u001b[38;5;124m'\u001b[39m\u001b[38;5;124mpink\u001b[39m\u001b[38;5;124m'\u001b[39m, \u001b[38;5;124m'\u001b[39m\u001b[38;5;124myellow\u001b[39m\u001b[38;5;124m'\u001b[39m, \u001b[38;5;124m'\u001b[39m\u001b[38;5;124mlightblue\u001b[39m\u001b[38;5;124m'\u001b[39m, \u001b[38;5;124m'\u001b[39m\u001b[38;5;124morange\u001b[39m\u001b[38;5;124m'\u001b[39m, \u001b[38;5;124m'\u001b[39m\u001b[38;5;124mlightgreen\u001b[39m\u001b[38;5;124m'\u001b[39m, \u001b[38;5;124m'\u001b[39m\u001b[38;5;124mpurple\u001b[39m\u001b[38;5;124m'\u001b[39m),\n\u001b[0;32m     11\u001b[0m     subset_label_formatter\u001b[38;5;241m=\u001b[39m\u001b[38;5;28;01mlambda\u001b[39;00m x: \u001b[38;5;124mf\u001b[39m\u001b[38;5;124m\"\u001b[39m\u001b[38;5;124mLabel \u001b[39m\u001b[38;5;132;01m{\u001b[39;00mx\u001b[38;5;132;01m}\u001b[39;00m\u001b[38;5;124m\"\u001b[39m))\n\u001b[0;32m     13\u001b[0m fig\u001b[38;5;241m.\u001b[39mshow()\n",
      "File \u001b[1;32m~\\anaconda3\\Lib\\site-packages\\plotly\\graph_objs\\__init__.py:299\u001b[0m, in \u001b[0;36m__getattr__\u001b[1;34m(import_name)\u001b[0m\n\u001b[0;32m    295\u001b[0m         \u001b[38;5;28;01mfrom\u001b[39;00m \u001b[38;5;21;01m.\u001b[39;00m\u001b[38;5;21;01m.\u001b[39;00m\u001b[38;5;21;01mmissing_ipywidgets\u001b[39;00m \u001b[38;5;28;01mimport\u001b[39;00m FigureWidget\n\u001b[0;32m    297\u001b[0m         \u001b[38;5;28;01mreturn\u001b[39;00m FigureWidget\n\u001b[1;32m--> 299\u001b[0m \u001b[38;5;28;01mreturn\u001b[39;00m orig_getattr(import_name)\n",
      "File \u001b[1;32m~\\anaconda3\\Lib\\site-packages\\_plotly_utils\\importers.py:39\u001b[0m, in \u001b[0;36mrelative_import.<locals>.__getattr__\u001b[1;34m(import_name)\u001b[0m\n\u001b[0;32m     36\u001b[0m     class_module \u001b[38;5;241m=\u001b[39m importlib\u001b[38;5;241m.\u001b[39mimport_module(rel_module, parent_name)\n\u001b[0;32m     37\u001b[0m     \u001b[38;5;28;01mreturn\u001b[39;00m \u001b[38;5;28mgetattr\u001b[39m(class_module, class_name)\n\u001b[1;32m---> 39\u001b[0m \u001b[38;5;28;01mraise\u001b[39;00m \u001b[38;5;167;01mAttributeError\u001b[39;00m(\n\u001b[0;32m     40\u001b[0m     \u001b[38;5;124m\"\u001b[39m\u001b[38;5;124mmodule \u001b[39m\u001b[38;5;132;01m{__name__!r}\u001b[39;00m\u001b[38;5;124m has no attribute \u001b[39m\u001b[38;5;132;01m{name!r}\u001b[39;00m\u001b[38;5;124m\"\u001b[39m\u001b[38;5;241m.\u001b[39mformat(\n\u001b[0;32m     41\u001b[0m         name\u001b[38;5;241m=\u001b[39mimport_name, \u001b[38;5;18m__name__\u001b[39m\u001b[38;5;241m=\u001b[39mparent_name\n\u001b[0;32m     42\u001b[0m     )\n\u001b[0;32m     43\u001b[0m )\n",
      "\u001b[1;31mAttributeError\u001b[0m: module 'plotly.graph_objs' has no attribute 'Venn'"
     ]
    }
   ],
   "source": [
    "import plotly.graph_objs as go\n",
    "\n",
    "A = set(['a', 'b', 'c', 'd'])\n",
    "B = set(['c', 'd', 'e', 'f'])\n",
    "C = set(['c', 'f', 'g', 'h'])\n",
    "\n",
    "fig = go.Figure(go.Venn(\n",
    "    sets=[A, B, C],\n",
    "    set_colors=('red', 'green', 'blue'),\n",
    "    subset_colors=('pink', 'yellow', 'lightblue', 'orange', 'lightgreen', 'purple'),\n",
    "    subset_label_formatter=lambda x: f\"Label {x}\"))\n",
    "\n",
    "fig.show()"
   ]
  },
  {
   "cell_type": "code",
   "execution_count": null,
   "id": "cc1c58b3-48d1-4d1d-8b0d-aa277646a6c2",
   "metadata": {},
   "outputs": [],
   "source": []
  }
 ],
 "metadata": {
  "kernelspec": {
   "display_name": "Python 3 (ipykernel)",
   "language": "python",
   "name": "python3"
  },
  "language_info": {
   "codemirror_mode": {
    "name": "ipython",
    "version": 3
   },
   "file_extension": ".py",
   "mimetype": "text/x-python",
   "name": "python",
   "nbconvert_exporter": "python",
   "pygments_lexer": "ipython3",
   "version": "3.11.5"
  }
 },
 "nbformat": 4,
 "nbformat_minor": 5
}
