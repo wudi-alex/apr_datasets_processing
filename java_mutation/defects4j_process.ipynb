{
 "cells": [
  {
   "cell_type": "markdown",
   "id": "f092ba73-0a86-4cc3-9e97-4d921818fc1c",
   "metadata": {},
   "source": [
    "## list defects4j projects used by repairllama"
   ]
  },
  {
   "cell_type": "code",
   "execution_count": null,
   "id": "f6c8746b-ae65-43f4-8529-a9d90a16a33a",
   "metadata": {},
   "outputs": [],
   "source": [
    "import os\n",
    "\n",
    "def list_subfolders(directory):\n",
    "    \"\"\"列出指定目录下所有子文件夹的名称\"\"\"\n",
    "    subfolders = [f.name for f in os.scandir(directory) if f.is_dir()]\n",
    "    return subfolders\n",
    "\n",
    "# 使用示例\n",
    "directory_path = '/projects/ksun3/dwu25/repairllama/results/defects4j/repairllama/fft/patches'  # 请替换为你的目标文件夹路径\n",
    "subfolders = list_subfolders(directory_path)\n",
    "print(subfolders)"
   ]
  },
  {
   "cell_type": "code",
   "execution_count": null,
   "id": "56d96146-43fc-43da-b78e-d5e07c4a6a18",
   "metadata": {},
   "outputs": [],
   "source": []
  }
 ],
 "metadata": {
  "kernelspec": {
   "display_name": "Python 3 (ipykernel)",
   "language": "python",
   "name": "python3"
  },
  "language_info": {
   "codemirror_mode": {
    "name": "ipython",
    "version": 3
   },
   "file_extension": ".py",
   "mimetype": "text/x-python",
   "name": "python",
   "nbconvert_exporter": "python",
   "pygments_lexer": "ipython3",
   "version": "3.9.9"
  }
 },
 "nbformat": 4,
 "nbformat_minor": 5
}
