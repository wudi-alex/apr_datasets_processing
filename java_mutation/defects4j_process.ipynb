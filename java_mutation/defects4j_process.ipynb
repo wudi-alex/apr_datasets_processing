{
 "cells": [
  {
   "cell_type": "markdown",
   "id": "f092ba73-0a86-4cc3-9e97-4d921818fc1c",
   "metadata": {},
   "source": [
    "## list defects4j projects used by repairllama"
   ]
  },
  {
   "cell_type": "code",
   "execution_count": 1,
   "id": "f6c8746b-ae65-43f4-8529-a9d90a16a33a",
   "metadata": {},
   "outputs": [
    {
     "name": "stdout",
     "output_type": "stream",
     "text": [
      "['JacksonCore-4', 'Lang-3', 'JacksonCore-3', 'Math-30', 'JxPath-5', 'Math-39', 'Csv-14', 'Cli-4', 'JacksonXml-4', 'Compress-40', 'JacksonXml-3', 'Compress-13', 'Math-55', 'Codec-4', 'JxPath-10', 'Math-52', 'Compress-14', 'Time-7', 'Codec-3', 'Csv-9', 'JxPath-21', 'Math-103', 'Compress-25', 'Math-97', 'Math-63', 'Jsoup-6', 'Cli-2', 'Compress-46', 'Cli-5', 'Jsoup-1', 'Csv-15', 'Compress-41', 'JacksonXml-5', 'Lang-5', 'Math-31', 'JacksonCore-5', 'Time-8', 'Math-96', 'Compress-24', 'Math-105', 'Compress-23', 'Math-91', 'Math-102', 'Compress-15', 'Math-53', 'Codec-2', 'Csv-1', 'Compress-12', 'Csv-6', 'Codec-5', 'JacksonDatabind-49', 'Cli-12', 'Closure-31', 'Lang-44', 'JacksonDatabind-76', 'JacksonDatabind-82', 'Closure-36', 'Cli-15', 'Mockito-38', 'JacksonDatabind-85', 'JacksonDatabind-71', 'Lang-43', 'Cli-23', 'Jsoup-32', 'JacksonDatabind-47', 'Gson-2', 'Cli-24', 'Gson-5', 'Closure-38', 'Closure-107', 'Lang-26', 'Math-5', 'Jsoup-61', 'JacksonDatabind-100', 'Lang-19', 'Closure-53', 'Math-2', 'Jsoup-59', 'Lang-21', 'Time-17', 'Mockito-7', 'JacksonDatabind-107', 'Lang-17', 'Closure-62', 'Jsoup-50', 'Closure-109', 'Lang-28', 'Closure-96', 'Time-19', 'Jsoup-68', 'Closure-131', 'Lang-10', 'Closure-91', 'Jsoup-57', 'Closure-65', 'Cli-25', 'Jsoup-34', 'Closure-39', 'Closure-152', 'Jsoup-33', 'JacksonDatabind-46', 'Cli-14', 'Lang-42', 'JacksonDatabind-70', 'Compress-5', 'JacksonDatabind-83', 'Closure-164', 'Lang-45', 'Mockito-8', 'Time-18', 'Lang-11', 'Closure-130', 'Time-27', 'JacksonDatabind-24', 'Lang-16', 'Jsoup-51', 'Time-20', 'Closure-97', 'Lang-29', 'Cli-40', 'Math-3', 'Closure-101', 'JacksonDatabind-12', 'Time-16', 'Jsoup-93', 'Closure-55', 'Closure-99', 'Lang-27', 'Closure-52', 'Mockito-1', 'JacksonDatabind-101', 'Lang-18', 'Closure-70', 'Jsoup-42', 'Chart-9', 'Jsoup-89', 'Closure-124', 'JacksonDatabind-37', 'Jsoup-45', 'Closure-83', 'Closure-77', 'Closure-48', 'Closure-4', 'JacksonDatabind-39', 'JacksonDatabind-112', 'Chart-7', 'Closure-115', 'Jsoup-80', 'JacksonCore-25', 'Closure-112', 'Lang-33', 'Closure-146', 'Chart-17', 'Closure-12', 'Jsoup-20', 'Lang-58', 'Mockito-24', 'Jsoup-27', 'Closure-15', 'JacksonDatabind-99', 'Chart-10', 'JacksonDatabind-64', 'Mockito-12', 'Closure-23', 'Chart-26', 'JacksonDatabind-97', 'Cli-38', 'Lang-51', 'Closure-170', 'Closure-24', 'Jsoup-75', 'Chart-1', 'Closure-113', 'Closure-78', 'Jsoup-86', 'Closure-40', 'Chart-6', 'JacksonCore-23', 'Jsoup-72', 'Closure-114', 'Closure-82', 'JacksonCore-15', 'Closure-5', 'Closure-122', 'Jsoup-43', 'Closure-71', 'Closure-125', 'Closure-2', 'Chart-8', 'Jsoup-88', 'JacksonDatabind-62', 'JacksonDatabind-96', 'Closure-25', 'Chart-20', 'JacksonDatabind-91', 'Mockito-13', 'Lang-57', 'Closure-176', 'Closure-22', 'Jsoup-10', 'Jsoup-19', 'Lang-61', 'Cli-37', 'JacksonDatabind-98', 'Chart-11', 'Closure-14', 'Jsoup-26', 'JacksonDatabind-54', 'Mockito-22', 'Lang-59', 'Closure-13', 'Compress-30', 'Math-82', 'Math-85', 'Compress-37', 'Math-78', 'Math-40', 'Gson-17', 'JacksonDatabind-8', 'Gson-10', 'Math-13', 'Math-25', 'JacksonDatabind-1', 'Codec-15', 'JacksonDatabind-6', 'Compress-38', 'Math-41', 'Math-79', 'Math-70', 'Compress-36', 'Math-84', 'Math-48', 'Compress-31', 'Math-23', 'JacksonDatabind-7', 'Math-24', 'Gson-18', 'Gson-11', 'JacksonDatabind-9', 'Gson-16', 'Math-51', 'Compress-17', 'JxPath-14', 'Time-4', 'Csv-3', 'Compress-28', 'Compress-10', 'Math-56', 'Csv-4', 'Codec-7', 'Math-69', 'Math-94', 'Compress-26', 'Math-60', 'Compress-19', 'Codec-9', 'Compress-21', 'JxPath-22', 'Math-58', 'Math-33', 'JxPath-6', 'JacksonCore-7', 'Cli-9', 'Math-34', 'JxPath-8', 'Lang-9', 'Csv-10', 'Compress-44', 'Math-101', 'Math-59', 'Compress-27', 'Math-95', 'Math-106', 'Compress-18', 'Math-57', 'Compress-11', 'JxPath-12', 'Csv-5', 'Codec-6', 'Compress-16', 'Math-50', 'Csv-2', 'Time-5', 'Jsoup-2', 'JacksonCore-8', 'Jsoup-5', 'Csv-11', 'JacksonXml-1', 'Compress-45', 'JacksonCore-6', 'Lang-1', 'Cli-8', 'Lang-6', 'Math-32', 'Lang-22', 'Closure-57', 'Time-14', 'Closure-104', 'JacksonDatabind-17', 'Jsoup-62', 'JacksonDatabind-28', 'Closure-50', 'Closure-59', 'Closure-92', 'Time-25', 'Jsoup-54', 'Lang-14', 'Closure-61', 'Math-8', 'Jsoup-53', 'Time-22', 'Closure-95', 'JacksonDatabind-19', 'Closure-35', 'Collections-27', 'Cli-29', 'Compress-7', 'Lang-40', 'Closure-161', 'Closure-159', 'Cli-11', 'Closure-32', 'Closure-166', 'JacksonDatabind-88', 'Cli-27', 'Closure-150', 'Gson-6', 'Cli-20', 'Closure-168', 'Lang-49', 'JacksonDatabind-44', 'JacksonDatabind-27', 'Time-23', 'Math-9', 'Closure-94', 'Closure-58', 'Closure-133', 'Lang-12', 'Closure-67', 'Jsoup-55', 'Time-24', 'Closure-105', 'JacksonDatabind-16', 'Lang-24', 'Math-7', 'JacksonDatabind-102', 'Closure-102', 'JacksonDatabind-11', 'Closure-69', 'Time-15', 'Mockito-5', 'Jsoup-64', 'Jsoup-90', 'Closure-56', 'Lang-48', 'JacksonDatabind-45', 'Mockito-33', 'Compress-8', 'Cli-26', 'Jsoup-37', 'Cli-19', 'Mockito-34', 'JacksonDatabind-42', 'Closure-33', 'Compress-1', 'JacksonDatabind-74', 'Collections-26', 'Cli-17', 'Closure-160', 'Jsoup-39', 'Cli-28', 'Mockito-27', 'JacksonDatabind-51', 'Closure-29', 'Mockito-18', 'Jsoup-24', 'Cli-35', 'Chart-13', 'Closure-145', 'Mockito-20', 'Closure-11', 'Cli-32', 'Closure-18', 'Lang-52', 'Mockito-29', 'Lang-55', 'JacksonDatabind-67', 'JacksonDatabind-93', 'JacksonDatabind-58', 'Closure-20', 'Jsoup-46', 'Closure-120', 'JacksonDatabind-33', 'Closure-7', 'Closure-73', 'Closure-118', 'Closure-87', 'Lang-39', 'Jsoup-41', 'JacksonDatabind-34', 'Chart-3', 'Jsoup-77', 'JacksonCore-26', 'Closure-111', 'Jsoup-48', 'Closure-129', 'JacksonCore-21', 'Jsoup-70', 'Jsoup-84', 'Closure-42', 'Chart-4', 'Closure-116', 'Lang-37', 'Lang-54', 'Closure-21', 'Chart-24', 'Jsoup-13', 'Lang-53', 'Closure-172', 'Closure-19', 'Mockito-28', 'Chart-23', 'Lang-65', 'JacksonDatabind-57', 'Closure-10', 'Closure-17', 'Chart-12', 'Jsoup-85', 'Chart-5', 'Closure-128', 'JacksonCore-20', 'Closure-88', 'Closure-117', 'Closure-44', 'Jsoup-82', 'Lang-31', 'Jsoup-49', 'Lang-38', 'Closure-86', 'JacksonCore-11', 'Closure-119', 'Jsoup-40', 'Closure-126', 'JacksonDatabind-35', 'Closure-1', 'Jsoup-47', 'Closure-81', 'Closure-121', 'Gson-13', 'Math-10', 'Codec-18', 'Math-17', 'Math-28', 'Math-21', 'JacksonDatabind-5', 'Math-26', 'Math-19', 'Math-86', 'Math-72', 'Math-75', 'Math-88', 'Math-43', 'Math-44', 'Math-27', 'Codec-10', 'Codec-17', 'Math-20', 'Gson-15', 'Gson-12', 'Math-11', 'Math-45', 'Math-89', 'Math-42', 'Compress-32', 'Math-80', 'Math-74', 'Math-73', 'Math-87', 'Compress-35']\n"
     ]
    }
   ],
   "source": [
    "import os\n",
    "\n",
    "def list_subfolders(directory):\n",
    "    \"\"\"列出指定目录下所有子文件夹的名称\"\"\"\n",
    "    subfolders = [f.name for f in os.scandir(directory) if f.is_dir()]\n",
    "    return subfolders\n",
    "\n",
    "# 使用示例\n",
    "directory_path = '/Users/alex.wu/PycharmProjects/repairllama/results/defects4j/repairllama/fft/patches'\n",
    "subfolders = list_subfolders(directory_path)\n",
    "print(subfolders)"
   ]
  },
  {
   "cell_type": "markdown",
   "id": "01b25a42-6196-4d65-8ccf-fa99d3d04b89",
   "metadata": {},
   "source": [
    "## find the patch file"
   ]
  },
  {
   "cell_type": "code",
   "execution_count": 113,
   "id": "bffa6b3b-22a7-4446-8e62-58f4ca5e4a04",
   "metadata": {},
   "outputs": [],
   "source": [
    "def find_path_file(project_id):\n",
    "    project, number=project_id.split('-')[0], project_id.split('-')[1]\n",
    "    base_path='/Users/alex.wu/defects4j/framework/projects'\n",
    "    file_path=f'{base_path}/{project}/patches/{number}.src.patch'\n",
    "    return file_path\n",
    "\n",
    "def find_project_root_file(project_id):\n",
    "    project, number=project_id.split('-')[0].lower(), project_id.split('-')[1]\n",
    "    base_path='/Users/alex.wu/defects4j_projects_buggy'\n",
    "    file_path=f'{base_path}/{project.lower()}_{number}'\n",
    "    return file_path"
   ]
  },
  {
   "cell_type": "markdown",
   "id": "95739853-df9c-428a-ae8f-a03beeb48141",
   "metadata": {},
   "source": [
    "## get file startline"
   ]
  },
  {
   "cell_type": "code",
   "execution_count": 26,
   "id": "946ab713-8460-4b1c-b0f5-d1e4437bb91f",
   "metadata": {},
   "outputs": [
    {
     "name": "stdout",
     "output_type": "stream",
     "text": [
      "更改开始的行号是：1797\n",
      "代码地址是：source/org/jfree/chart/renderer/category/AbstractCategoryItemRenderer.java\n"
     ]
    }
   ],
   "source": [
    "import re\n",
    "\n",
    "def extract_line_number_and_code_path_from_diff_file(file_path):\n",
    "    \"\"\"\n",
    "    从存储在文件中的diff内容提取更改开始的行号和代码地址。\n",
    "    \n",
    "    参数:\n",
    "    - file_path: 字符串，指向包含diff的文本文件的路径。\n",
    "    \n",
    "    返回:\n",
    "    - tuple: (行号, 代码地址)。如果没有找到，返回(None, None)。\n",
    "    \"\"\"\n",
    "    try:\n",
    "        with open(file_path, 'r') as file:\n",
    "            diff_content = file.read()\n",
    "            # 使用正则表达式匹配文件路径\n",
    "            path_match = re.search(r'diff --git a/(.*?) b/', diff_content)\n",
    "            code_path = path_match.group(1) if path_match else None\n",
    "            \n",
    "            # 使用正则表达式匹配@@ -x,y +x,y @@格式以提取行号\n",
    "            line_match = re.search(r'@@ -\\d+,\\d+ \\+(\\d+),\\d+ @@', diff_content)\n",
    "            line_number = int(line_match.group(1)) + 3 if line_match else None\n",
    "            \n",
    "            return line_number, code_path\n",
    "    except FileNotFoundError:\n",
    "        print(f\"文件'{file_path}'未找到。\")\n",
    "        return None, None\n",
    "    except Exception as e:\n",
    "        print(f\"读取文件时发生错误：{e}\")\n",
    "        return None, None\n",
    "\n",
    "# 注意：这里的find_path_file函数或变量似乎未定义。请确保替换file_path为正确的diff文件路径。\n",
    "file_path = find_path_file('Chart-1')\n",
    "\n",
    "# 使用函数并打印结果\n",
    "line_number, code_path = extract_line_number_and_code_path_from_diff_file(file_path)\n",
    "if line_number is not None and code_path is not None:\n",
    "    print(f\"更改开始的行号是：{line_number}\")\n",
    "    print(f\"代码地址是：{code_path}\")\n",
    "else:\n",
    "    print(\"未能从diff中提取出行号和代码地址。\")\n",
    "\n"
   ]
  },
  {
   "cell_type": "code",
   "execution_count": 19,
   "id": "04858a30-6199-4118-b92c-d7db43b26bac",
   "metadata": {},
   "outputs": [
    {
     "name": "stdout",
     "output_type": "stream",
     "text": [
      "找到匹配的文件地址：/Users/alex.wu/defects4j_projects_buggy/chart/chart_1/source/org/jfree/chart/renderer/category/AbstractCategoryItemRenderer.java\n"
     ]
    }
   ],
   "source": [
    "import os\n",
    "\n",
    "def find_file_by_tail(root_dir, tail_path):\n",
    "    \"\"\"\n",
    "    在指定的根目录下查找路径尾部匹配给定尾部路径的文件地址。\n",
    "\n",
    "    参数:\n",
    "    - root_dir: 字符串，要搜索的根目录路径。\n",
    "    - tail_path: 字符串，需要匹配的文件地址路径尾部。\n",
    "\n",
    "    返回:\n",
    "    - 完整的文件地址，如果找到匹配的文件。否则返回None。\n",
    "    \"\"\"\n",
    "    # 确保尾部路径以斜杠开头\n",
    "    if not tail_path.startswith('/'):\n",
    "        tail_path = '/' + tail_path\n",
    "\n",
    "    for dirpath, dirnames, filenames in os.walk(root_dir):\n",
    "        for filename in filenames:\n",
    "            # 构造当前文件的完整路径\n",
    "            file_path = os.path.join(dirpath, filename)\n",
    "            # 检查文件路径是否以指定的尾部匹配\n",
    "            if file_path.endswith(tail_path):\n",
    "                return file_path  # 返回匹配的完整文件地址\n",
    "\n",
    "    # 如果遍历了整个根目录但没有找到匹配，返回None\n",
    "    return None\n",
    "\n",
    "# 示例用法\n",
    "root_dir = '/Users/alex.wu/defects4j_projects_buggy/chart_1'  # 要搜索的根目录\n",
    "tail_path = 'source/org/jfree/chart/renderer/category/AbstractCategoryItemRenderer.java'  # 需要匹配的文件地址路径尾部\n",
    "matched_file = find_file_by_tail(root_dir, tail_path)\n",
    "\n",
    "if matched_file:\n",
    "    print(f\"找到匹配的文件地址：{matched_file}\")\n",
    "else:\n",
    "    print(\"没有找到匹配的文件。\")\n"
   ]
  },
  {
   "cell_type": "markdown",
   "id": "b08f1ac1-e653-4a6e-ad3c-90622c357902",
   "metadata": {},
   "source": [
    "## find repairllama prompt information"
   ]
  },
  {
   "cell_type": "code",
   "execution_count": 15,
   "id": "88d8bb07-b075-45dc-8b88-b20c00ee2ada",
   "metadata": {},
   "outputs": [],
   "source": [
    "def find_repairllama_path_file(project_id):\n",
    "    base_path='/Users/alex.wu/PycharmProjects/repairllama/results/defects4j/repairllama/fft/patches'\n",
    "    prompt_file_path=f'{base_path}/{project_id}/prompt.txt'\n",
    "    target_file_path=f'{base_path}/{project_id}/target.diff'\n",
    "    return prompt_file_path, target_file_path"
   ]
  },
  {
   "cell_type": "code",
   "execution_count": 16,
   "id": "4fdba29b-61c0-46ce-b54a-7d7d10be0401",
   "metadata": {},
   "outputs": [
    {
     "data": {
      "text/plain": [
       "('/Users/alex.wu/PycharmProjects/repairllama/results/defects4j/repairllama/fft/patches/Chart-1/prompt.txt',\n",
       " '/Users/alex.wu/PycharmProjects/repairllama/results/defects4j/repairllama/fft/patches/Chart-1/target.diff')"
      ]
     },
     "execution_count": 16,
     "metadata": {},
     "output_type": "execute_result"
    }
   ],
   "source": [
    "find_repairllama_path_file(\"Chart-1\")"
   ]
  },
  {
   "cell_type": "code",
   "execution_count": 31,
   "id": "515430b9-9779-4387-82c9-0c0dbee54cd5",
   "metadata": {},
   "outputs": [
    {
     "name": "stdout",
     "output_type": "stream",
     "text": [
      "被注释的代码块开始于第5行，结束于第9行。\n",
      "开始标记前的代码:\n",
      "     public XYDataItem addOrUpdate(Number x, Number y) {\n",
      "        if (x == null) {\n",
      "            throw new IllegalArgumentException(\"Null 'x' argument.\");\n",
      "        }\n",
      "\n",
      "结束标记后的代码:\n",
      "             XYDataItem existing = (XYDataItem) this.data.get(index);\n",
      "            try {\n",
      "                overwritten = (XYDataItem) existing.clone();\n",
      "            }\n",
      "            catch (CloneNotSupportedException e) {\n",
      "                throw new SeriesException(\"Couldn't clone XYDataItem!\");\n",
      "            }\n",
      "            existing.setY(y);\n",
      "        }\n",
      "        else {\n",
      "            if (this.autoSort) {\n",
      "                this.data.add(-index - 1, new XYDataItem(x, y));\n",
      "            }\n",
      "            else {\n",
      "                this.data.add(new XYDataItem(x, y));\n",
      "            }\n",
      "            if (getItemCount() > this.maximumItemCount) {\n",
      "                this.data.remove(0);\n",
      "            }\n",
      "        }\n",
      "        fireSeriesChanged();\n",
      "        return overwritten;\n",
      "    }\n",
      "\n",
      "被注释的代码:\n",
      " XYDataItem overwritten = null;\n",
      "       int index = indexOf(x);\n",
      "       if (index >= 0 && !this.allowDuplicateXValues) {\n"
     ]
    }
   ],
   "source": [
    "def find_and_extract_code_blocks(file_path, start_marker=\"// buggy code\", end_marker=\"<FILL_ME>\"):\n",
    "    \"\"\"\n",
    "    在文件中查找特定注释代码块的开始行数和结束行数，并提取相关代码段。\n",
    "\n",
    "    参数:\n",
    "    - file_path: 字符串，指向文本文件的路径。\n",
    "    - start_marker: 字符串，标记注释代码块开始的注释内容。\n",
    "    - end_marker: 字符串，标记注释代码块结束的内容。\n",
    "\n",
    "    返回:\n",
    "    - tuple: 包含开始行数、结束行数、开始标记前的代码字符串、结束标记后的代码字符串、被注释的代码字符串。\n",
    "             如果未找到，相应位置返回None。\n",
    "    \"\"\"\n",
    "    start_line = None\n",
    "    end_line = None\n",
    "    pre_code = \"\"  # 开始标记前的代码\n",
    "    post_code = \"\"  # 结束标记后的代码\n",
    "    commented_code = \"\"  # 被注释的代码\n",
    "    in_commented_block = False\n",
    "    with open(file_path, 'r') as file:\n",
    "        lines = file.readlines()\n",
    "        for i, line in enumerate(lines):\n",
    "            if start_marker in line:\n",
    "                start_line = i + 1  # 文件行数从1开始\n",
    "                in_commented_block = True\n",
    "                continue\n",
    "            if end_marker in line:\n",
    "                end_line = i + 1  # 结束行的处理稍有不同\n",
    "                in_commented_block = False\n",
    "                # 继续累积post_code，直到文件结束\n",
    "                continue\n",
    "            if in_commented_block:\n",
    "                commented_code += line\n",
    "            elif end_line is not None:\n",
    "                post_code += line\n",
    "            else:\n",
    "                pre_code += line\n",
    "\n",
    "    return start_line, end_line, pre_code, post_code, commented_code.replace('// ', '').strip()\n",
    "\n",
    "# 将这里的文件路径替换为你的实际文件路径\n",
    "file_path = find_repairllama_path_file(\"Chart-5\")[0]\n",
    "\n",
    "# 使用函数并打印结果\n",
    "start_line, end_line, pre_code, post_code, commented_code = find_and_extract_code_blocks(file_path)\n",
    "if start_line is not None and end_line is not None:\n",
    "    print(f\"被注释的代码块开始于第{start_line}行，结束于第{end_line}行。\")\n",
    "    print(\"开始标记前的代码:\\n\", pre_code)\n",
    "    print(\"结束标记后的代码:\\n\", post_code)\n",
    "    print(\"被注释的代码:\\n\", commented_code)\n",
    "else:\n",
    "    print(\"未找到指定的被注释代码块。\")\n",
    "\n"
   ]
  },
  {
   "cell_type": "code",
   "execution_count": null,
   "id": "77991ee4-beb2-4d5f-8f6e-96ea612d6d4f",
   "metadata": {},
   "outputs": [],
   "source": [
    "def process_diff_file(file_path):\n",
    "    \"\"\"\n",
    "    从diff文件中提取修改后的内容，去除不需要的diff标记和删除的内容。\n",
    "\n",
    "    参数:\n",
    "    - file_path: 字符串，指向diff文件的路径。\n",
    "\n",
    "    返回:\n",
    "    - processed_content: 字符串，处理后的文件内容。\n",
    "    \"\"\"\n",
    "    processed_lines = []  # 存储处理后的行\n",
    "\n",
    "    try:\n",
    "        with open(file_path, 'r') as file:\n",
    "            for line in file:\n",
    "                # 跳过不需要的行\n",
    "                if line.startswith('--- ') or line.startswith('+++ ') or line.startswith('@@ '):\n",
    "                    continue\n",
    "                elif line.startswith('-'):\n",
    "                    continue\n",
    "                # 移除以+开头的行的+符号\n",
    "                elif line.startswith('+'):\n",
    "                    processed_lines.append(' '+line[1:])\n",
    "                else:\n",
    "                    processed_lines.append(line)\n",
    "    except FileNotFoundError:\n",
    "        print(f\"文件'{file_path}'未找到。\")\n",
    "        return \"\"\n",
    "    except Exception as e:\n",
    "        print(f\"读取文件时发生错误：{e}\")\n",
    "        return \"\"\n",
    "\n",
    "    # 合并处理后的行为一个字符串并返回\n",
    "    processed_content = ''.join(processed_lines)\n",
    "    return processed_content\n",
    "\n",
    "# 使用示例\n",
    "file_path = find_repairllama_path_file('Chart-4')[1]  # 将这里的路径替换为你的实际文件路径\n",
    "\n",
    "# 调用函数并打印结果\n",
    "processed_content = process_diff_file(file_path)\n",
    "print(processed_content)\n"
   ]
  },
  {
   "cell_type": "markdown",
   "id": "dee10a37-e847-41b6-8594-32feb78d2447",
   "metadata": {},
   "source": [
    "## 构建info jsonl"
   ]
  },
  {
   "cell_type": "code",
   "execution_count": 77,
   "id": "50da9d4b-e48e-4b91-9b98-872afde29fa0",
   "metadata": {},
   "outputs": [
    {
     "name": "stdout",
     "output_type": "stream",
     "text": [
      "public class HelloWorld {\n",
      "    public static void main(String[] args) {\n",
      "        System.out.println(\"Hello, world!\");\n",
      "    }\n",
      "}\n"
     ]
    }
   ],
   "source": [
    "import re\n",
    "\n",
    "def remove_java_comments_correctly(code):\n",
    "    \"\"\"\n",
    "    正确地去除Java代码中的单行和多行注释，不移除注释前的换行符。\n",
    "\n",
    "    参数:\n",
    "    - code: 字符串，包含Java代码。\n",
    "\n",
    "    返回:\n",
    "    - 去除注释的代码字符串，保留其他内容不变。\n",
    "    \"\"\"\n",
    "    # 移除多行注释，这里假设多行注释不跨越多个非空白行\n",
    "    code_no_multiline_comments = re.sub(r'/\\*[\\s\\S]*?\\*/', '', code)\n",
    "    # 移除单行注释及其后的换行符，如果存在\n",
    "    cleaned_code = re.sub(r'(?m)^ *//.*\\n?', '', code_no_multiline_comments)\n",
    "\n",
    "    return cleaned_code.strip()\n",
    "\n",
    "# 示例Java代码字符串\n",
    "java_code = \"\"\"\n",
    "public class HelloWorld {\n",
    "    public static void main(String[] args) {\n",
    "        // 这是单行注释\n",
    "        System.out.println(\"Hello, world!\");\n",
    "    }\n",
    "}\n",
    "\"\"\"\n",
    "\n",
    "# 使用函数并打印结果\n",
    "cleaned_code = remove_java_comments_correctly(java_code)\n",
    "print(cleaned_code)\n"
   ]
  },
  {
   "cell_type": "code",
   "execution_count": 105,
   "id": "61072514-af24-4e3d-b552-fe08d16a7c09",
   "metadata": {},
   "outputs": [],
   "source": [
    "def remove_spaces_newlines_and_get_indices(java_code):\n",
    "    cleaned_code = \"\"\n",
    "    indices = []\n",
    "    for index, char in enumerate(java_code):\n",
    "        if char not in [' ', '\\n', '\\r', '\\t']:\n",
    "            cleaned_code += char\n",
    "            indices.append(index)\n",
    "    return indices, cleaned_code\n",
    "\n",
    "def find_substring_indices(main_string, substring):\n",
    "    start_index = main_string.find(substring)\n",
    "    \n",
    "    # 如果找不到子字符串，则返回-1\n",
    "    if start_index == -1:\n",
    "        return -1, -1\n",
    "\n",
    "    end_index = start_index + len(substring) - 1\n",
    "    return start_index, end_index\n",
    "\n",
    "def replace_sub(java_code, java_patch):\n",
    "    rm_code_ind_lst, rm_java_code=remove_spaces_newlines_and_get_indices(java_code)\n",
    "    _, rm_java_patch=remove_spaces_newlines_and_get_indices(java_patch)\n",
    "    start_ind, end_ind=find_substring_indices(rm_java_code, rm_java_patch)\n",
    "    code_start_ind, code_end_ind=rm_code_ind_lst[start_ind], rm_code_ind_lst[end_ind]\n",
    "    patch=java_code[:code_start_ind]+java_code[code_end_ind+1:]\n",
    "    return patch"
   ]
  },
  {
   "cell_type": "code",
   "execution_count": 117,
   "id": "6a7b5213-c41e-4b4b-aa61-aedb72d9eb42",
   "metadata": {},
   "outputs": [
    {
     "data": {
      "text/plain": [
       "{'startLine': 4493,\n",
       " 'filePath': '/Users/alex.wu/defects4j_projects_buggy/chart_4/source/org/jfree/chart/plot/XYPlot.java',\n",
       " 'mutationStrategy': 'RELATIONAL_EXPRESSION_MUTATION',\n",
       " 'projectName': 'chart_4',\n",
       " 'endLine': 4501,\n",
       " 'methodPreContext': '    public Range getDataRange(ValueAxis axis) {\\n        Range result = null;\\n        List mappedDatasets = new ArrayList();\\n        List includedAnnotations = new ArrayList();\\n        boolean isDomainAxis = true;\\n        int domainIndex = getDomainAxisIndex(axis);\\n        if (domainIndex >= 0) {\\n            isDomainAxis = true;\\n            mappedDatasets.addAll(getDatasetsMappedToDomainAxis(\\n                    new Integer(domainIndex)));\\n            if (domainIndex == 0) {\\n                Iterator iterator = this.annotations.iterator();\\n                while (iterator.hasNext()) {\\n                    XYAnnotation annotation = (XYAnnotation) iterator.next();\\n                    if (annotation instanceof XYAnnotationBoundsInfo) {\\n                        includedAnnotations.add(annotation);\\n                    }\\n                }\\n            }\\n        }\\n        int rangeIndex = getRangeAxisIndex(axis);\\n        if (rangeIndex >= 0) {\\n            isDomainAxis = false;\\n            mappedDatasets.addAll(getDatasetsMappedToRangeAxis(\\n                    new Integer(rangeIndex)));\\n            if (rangeIndex == 0) {\\n                Iterator iterator = this.annotations.iterator();\\n                while (iterator.hasNext()) {\\n                    XYAnnotation annotation = (XYAnnotation) iterator.next();\\n                    if (annotation instanceof XYAnnotationBoundsInfo) {\\n                        includedAnnotations.add(annotation);\\n                    }\\n                }\\n            }\\n        }\\n        Iterator iterator = mappedDatasets.iterator();\\n        while (iterator.hasNext()) {\\n            XYDataset d = (XYDataset) iterator.next();\\n            if (d != null) {\\n                XYItemRenderer r = getRendererForDataset(d);\\n                if (isDomainAxis) {\\n                    if (r != null) {\\n                        result = Range.combine(result, r.findDomainBounds(d));\\n                    }\\n                    else {\\n                        result = Range.combine(result,\\n                                DatasetUtilities.findDomainBounds(d));\\n                    }\\n                }\\n                else {\\n                    if (r != null) {\\n                        result = Range.combine(result, r.findRangeBounds(d));\\n                    }\\n                    else {\\n                        result = Range.combine(result,\\n                                DatasetUtilities.findRangeBounds(d));\\n                    }\\n                }\\n',\n",
       " 'methodPostContext': '            }\\n        }\\n        Iterator it = includedAnnotations.iterator();\\n        while (it.hasNext()) {\\n            XYAnnotationBoundsInfo xyabi = (XYAnnotationBoundsInfo) it.next();\\n            if (xyabi.getIncludeInDataBounds()) {\\n                if (isDomainAxis) {\\n                    result = Range.combine(result, xyabi.getXRange());\\n                }\\n                else {\\n                    result = Range.combine(result, xyabi.getYRange());\\n                }\\n            }\\n        }\\n        return result;\\n    }\\n',\n",
       " 'buggyCode': 'Collection c = r.getAnnotations();\\n                   Iterator i = c.iterator();\\n                   while (i.hasNext()) {\\n                       XYAnnotation a = (XYAnnotation) i.next();\\n                       if (a instanceof XYAnnotationBoundsInfo) {\\n                           includedAnnotations.add(a);\\n                       }\\n                   }',\n",
       " 'originalCode': 'if (r != null) {\\n                     Collection c = r.getAnnotations();\\n                     Iterator i = c.iterator();\\n                     while (i.hasNext()) {\\n                         XYAnnotation a = (XYAnnotation) i.next();\\n                         if (a instanceof XYAnnotationBoundsInfo) {\\n                             includedAnnotations.add(a);\\n                         }\\n                     }\\n                 }'}"
      ]
     },
     "execution_count": 117,
     "metadata": {},
     "output_type": "execute_result"
    }
   ],
   "source": [
    "def build_info_jsonl_line(project_id):\n",
    "    json={}\n",
    "    project, number=project_id.split('-')[0].lower(), project_id.split('-')[1]\n",
    "\n",
    "    patch_file_path = find_path_file(project_id)\n",
    "    root_dir = find_project_root_file(project_id)\n",
    "    \n",
    "    file_start_line, tail_file_path = extract_line_number_and_code_path_from_diff_file(patch_file_path)\n",
    "    real_file_path = find_file_by_tail(root_dir, tail_file_path)\n",
    "    json['startLine'] = file_start_line\n",
    "    json['filePath']= real_file_path\n",
    "    json['mutationStrategy']='RELATIONAL_EXPRESSION_MUTATION'\n",
    "    json['projectName']=f'{project.lower()}_{number}'\n",
    "    \n",
    "    prompt_file_path, target_file_path = find_repairllama_path_file(project_id)\n",
    "    patch_start_line, patch_end_line, before_code, after_code, buggy_code=find_and_extract_code_blocks(prompt_file_path)\n",
    "    json['endLine'] = file_start_line + patch_end_line - patch_start_line - 1\n",
    "    json['methodPreContext'] = before_code\n",
    "    json['methodPostContext'] = after_code\n",
    "    json['buggyCode'] = buggy_code\n",
    "    \n",
    "    target=process_diff_file(target_file_path)\n",
    "    target=remove_java_comments_correctly(target)\n",
    "    target=replace_sub(target, before_code)\n",
    "    target=replace_sub(target, after_code)\n",
    "    json['originalCode'] = target.strip()\n",
    "    return json\n",
    "\n",
    "build_info_jsonl_line('Chart-4')"
   ]
  },
  {
   "cell_type": "markdown",
   "id": "90c90241-35c1-485a-9c04-ef844fde0be5",
   "metadata": {},
   "source": [
    "## 保存jsonl文件"
   ]
  },
  {
   "cell_type": "code",
   "execution_count": 118,
   "id": "e7e49e9d-70f0-42b6-ada8-e051dbcf8068",
   "metadata": {},
   "outputs": [
    {
     "name": "stdout",
     "output_type": "stream",
     "text": [
      "Lang-29\n",
      "Chart-7\n",
      "Math-8\n",
      "Collections-27\n",
      "Collections-26\n",
      "Chart-23\n"
     ]
    }
   ],
   "source": [
    "import json\n",
    "with open('defects4j.jsonl', 'w') as file:\n",
    "    for i in subfolders:\n",
    "        try:\n",
    "            jsonline = build_info_jsonl_line(i)\n",
    "            json_string = json.dumps(jsonline)  \n",
    "            file.write(json_string + '\\n')\n",
    "        except:\n",
    "            print(i)"
   ]
  },
  {
   "cell_type": "markdown",
   "id": "f7f9baa5-89e4-49b0-8952-007b85f2e137",
   "metadata": {},
   "source": [
    "## validation"
   ]
  },
  {
   "cell_type": "code",
   "execution_count": 2,
   "id": "08914f58-8a93-4f06-bff4-340316754faa",
   "metadata": {},
   "outputs": [],
   "source": [
    "from datasets import load_from_disk\n",
    "\n",
    "dataset=load_from_disk('/Users/alex.wu/PycharmProjects/apr_datasets_processing/defects4j_validation/dataset_validated/defects4j_context_gen_validation')"
   ]
  },
  {
   "cell_type": "code",
   "execution_count": 5,
   "id": "5095eefa-a6d1-4a2c-be7c-ade10952f199",
   "metadata": {},
   "outputs": [],
   "source": [
    "project_ids=[i.capitalize().replace('Jacksondatabind', 'JacksonDatabind').replace('Jacksoncore', 'JacksonCore').replace(\n",
    "            'Jacksonxml', 'JacksonXml').replace('Jxpath', 'JxPath').replace('_', '-') for i in dataset['projectName']]"
   ]
  },
  {
   "cell_type": "code",
   "execution_count": null,
   "id": "ecb2917e-0b51-4f6b-aea5-da9a443bfdf4",
   "metadata": {},
   "outputs": [],
   "source": [
    "project_ids"
   ]
  },
  {
   "cell_type": "markdown",
   "id": "e2b33ba1-8236-42df-bc6d-418f61f78936",
   "metadata": {},
   "source": [
    "### repairllama result"
   ]
  },
  {
   "cell_type": "code",
   "execution_count": 10,
   "id": "c47868be-dbd7-48c3-9ae0-4dcba3591f80",
   "metadata": {},
   "outputs": [],
   "source": [
    "file_path='/Users/alex.wu/PycharmProjects/repairllama/results/defects4j/repairllama/lora/RepairLLaMA_defects4j_f2f_bugs_results_ir4_or2.jsonl'"
   ]
  },
  {
   "cell_type": "code",
   "execution_count": 9,
   "id": "8ebb9304-da7a-4ade-b46f-6e0df36c2c5b",
   "metadata": {},
   "outputs": [],
   "source": [
    "import json\n",
    "\n",
    "json_lst=[]\n",
    "# 使用with语句打开文件，确保文件会被正确关闭\n",
    "with open(json_path, 'r') as file:\n",
    "    for line in file:\n",
    "        # 解析每一行的JSON内容\n",
    "        json_obj = json.loads(line)\n",
    "        \n",
    "        # 处理json_obj\n",
    "        json_lst.append(json_obj)"
   ]
  },
  {
   "cell_type": "code",
   "execution_count": 15,
   "id": "b8b4d2c7-9489-4f50-8cba-22e97f09520f",
   "metadata": {},
   "outputs": [
    {
     "name": "stderr",
     "output_type": "stream",
     "text": [
      "Found cached dataset json (/Users/alex.wu/.cache/huggingface/datasets/json/default-086715474a996e88/0.0.0/0f7e3662623656454fcd2b650f34e886a7db4b9104504885bd462096cc7a9f51)\n"
     ]
    },
    {
     "data": {
      "application/vnd.jupyter.widget-view+json": {
       "model_id": "5245b142dca74fb88804914162cd46e4",
       "version_major": 2,
       "version_minor": 0
      },
      "text/plain": [
       "  0%|          | 0/1 [00:00<?, ?it/s]"
      ]
     },
     "metadata": {},
     "output_type": "display_data"
    }
   ],
   "source": [
    "from datasets import load_dataset\n",
    "\n",
    "repairllama_dataset=load_dataset('json', data_files=file_path)['train']"
   ]
  },
  {
   "cell_type": "code",
   "execution_count": 19,
   "id": "5b834f4a-567b-4103-9afe-6a1704c6e15a",
   "metadata": {},
   "outputs": [
    {
     "data": {
      "application/vnd.jupyter.widget-view+json": {
       "model_id": "",
       "version_major": 2,
       "version_minor": 0
      },
      "text/plain": [
       "Filter:   0%|          | 0/480 [00:00<?, ? examples/s]"
      ]
     },
     "metadata": {},
     "output_type": "display_data"
    }
   ],
   "source": [
    "repairllama_dataset=repairllama_dataset.filter(lambda x:x['bug_id'] in project_ids)"
   ]
  },
  {
   "cell_type": "code",
   "execution_count": 26,
   "id": "29549caf-22ca-4d7f-86c9-674ebb14c871",
   "metadata": {},
   "outputs": [
    {
     "data": {
      "text/plain": [
       "Dataset({\n",
       "    features: ['bug_id', 'buggy_code', 'patches', 'test_results'],\n",
       "    num_rows: 223\n",
       "})"
      ]
     },
     "execution_count": 26,
     "metadata": {},
     "output_type": "execute_result"
    }
   ],
   "source": [
    "repairllama_dataset"
   ]
  },
  {
   "cell_type": "code",
   "execution_count": 24,
   "id": "8f09ea55-e5d9-4e4a-ba8c-f0bdbc983c41",
   "metadata": {},
   "outputs": [
    {
     "data": {
      "application/vnd.jupyter.widget-view+json": {
       "model_id": "",
       "version_major": 2,
       "version_minor": 0
      },
      "text/plain": [
       "Filter:   0%|          | 0/223 [00:00<?, ? examples/s]"
      ]
     },
     "metadata": {},
     "output_type": "display_data"
    }
   ],
   "source": [
    "pluasible_bug_id=repairllama_dataset.filter(lambda x: 'Plausible' in x['test_results'])['bug_id']"
   ]
  },
  {
   "cell_type": "code",
   "execution_count": null,
   "id": "6a33a005-5a5d-4b05-b05e-4016732e0e85",
   "metadata": {},
   "outputs": [],
   "source": [
    "for i in repairllama_dataset:\n",
    "    if i['bug_id'] in pluasible_bug_id:\n",
    "        print(f\"------------------{i['bug_id']}------------------\")\n",
    "        print(i['buggy_code'])\n",
    "        indexes = [index for index, value in enumerate(i['test_results']) if value == 'Plausible']\n",
    "        print('plausible patches')\n",
    "        for j in indexes:\n",
    "            print('-------')            \n",
    "            print(i['patches'][j])"
   ]
  },
  {
   "cell_type": "markdown",
   "id": "1888d3f7-85ba-45f8-8f9a-4d8f070cd2a1",
   "metadata": {},
   "source": [
    "### our result"
   ]
  },
  {
   "cell_type": "code",
   "execution_count": 42,
   "id": "b38f16ea-03a4-41bc-8c34-5e0685d57b29",
   "metadata": {},
   "outputs": [],
   "source": [
    "dataset=load_from_disk('/Users/alex.wu/PycharmProjects/apr_datasets_processing/defects4j_validation/dataset_validated/defects4j_context_gen_10_validation')"
   ]
  },
  {
   "cell_type": "code",
   "execution_count": 45,
   "id": "b8c15dd1-65dd-47d3-8f95-5f555a53f27d",
   "metadata": {},
   "outputs": [],
   "source": [
    "def name_map(x):\n",
    "    x['bug_id']=x['projectName'].capitalize().replace('Jacksondatabind', 'JacksonDatabind').replace('Jacksoncore', 'JacksonCore').replace(\n",
    "            'Jacksonxml', 'JacksonXml').replace('Jxpath', 'JxPath').replace('_', '-')\n",
    "    return x"
   ]
  },
  {
   "cell_type": "code",
   "execution_count": 46,
   "id": "e7b710a9-8f12-4e06-89ad-cf24631086f1",
   "metadata": {},
   "outputs": [
    {
     "data": {
      "application/vnd.jupyter.widget-view+json": {
       "model_id": "",
       "version_major": 2,
       "version_minor": 0
      },
      "text/plain": [
       "Map:   0%|          | 0/223 [00:00<?, ? examples/s]"
      ]
     },
     "metadata": {},
     "output_type": "display_data"
    }
   ],
   "source": [
    "dataset=dataset.map(name_map)"
   ]
  },
  {
   "cell_type": "code",
   "execution_count": null,
   "id": "ffe98b5e-5419-49a8-9b7a-402b51b95cbf",
   "metadata": {},
   "outputs": [],
   "source": [
    "dataset['test_res']"
   ]
  },
  {
   "cell_type": "code",
   "execution_count": 49,
   "id": "04a48209-54ef-41a5-a240-05101df8d7cc",
   "metadata": {},
   "outputs": [
    {
     "data": {
      "application/vnd.jupyter.widget-view+json": {
       "model_id": "",
       "version_major": 2,
       "version_minor": 0
      },
      "text/plain": [
       "Filter:   0%|          | 0/223 [00:00<?, ? examples/s]"
      ]
     },
     "metadata": {},
     "output_type": "display_data"
    }
   ],
   "source": [
    "our_pluasible_bug_id=dataset.filter(lambda x: 'plausible' in [i['correctness'] for i in x['test_res']])['bug_id']"
   ]
  },
  {
   "cell_type": "code",
   "execution_count": 55,
   "id": "5b8433e2-0b0f-481b-8248-afe2555a6517",
   "metadata": {},
   "outputs": [],
   "source": [
    "unique_id=list(set(our_pluasible_bug_id).difference(set(pluasible_bug_id)))"
   ]
  },
  {
   "cell_type": "code",
   "execution_count": 59,
   "id": "5f3fc0c2-1fbf-4e59-8e0a-d43e312e6b64",
   "metadata": {},
   "outputs": [
    {
     "data": {
      "application/vnd.jupyter.widget-view+json": {
       "model_id": "",
       "version_major": 2,
       "version_minor": 0
      },
      "text/plain": [
       "Filter:   0%|          | 0/223 [00:00<?, ? examples/s]"
      ]
     },
     "metadata": {},
     "output_type": "display_data"
    }
   ],
   "source": [
    "unique_dataset=dataset.filter(lambda x:x['bug_id'] in unique_id)"
   ]
  },
  {
   "cell_type": "code",
   "execution_count": 61,
   "id": "31f2831c-7954-41cf-88ee-cb126035e1c6",
   "metadata": {},
   "outputs": [
    {
     "data": {
      "text/plain": [
       "Dataset({\n",
       "    features: ['methodInformation', 'involvedTypesInformation', 'filePath', 'classInformation', 'buggyInfo', 'projectName', 'input', 'output', 'gen', 'test_res', 'bug_id'],\n",
       "    num_rows: 11\n",
       "})"
      ]
     },
     "execution_count": 61,
     "metadata": {},
     "output_type": "execute_result"
    }
   ],
   "source": [
    "unique_dataset"
   ]
  },
  {
   "cell_type": "code",
   "execution_count": 69,
   "id": "c2701f24-f0a0-4fa4-894a-22069cfd9371",
   "metadata": {},
   "outputs": [
    {
     "name": "stdout",
     "output_type": "stream",
     "text": [
      "\n",
      "\n",
      "\n",
      "------------------JxPath-21------------------\n",
      "buggy_code: return ValueUtils.getLength(getBaseValue());\n",
      "fix_code: Object baseValue = getBaseValue();\n",
      "         return baseValue == null ? 1 : ValueUtils.getLength(baseValue);\n",
      "--our plausible patches:--\n",
      "-------\n",
      " if (isCollection()) {\n",
      "    return ValueUtils.getLength(getBaseValue());\n",
      "} else {\n",
      "    return 1;\n",
      "}\n",
      "--repairllama patches:--\n"
     ]
    },
    {
     "data": {
      "application/vnd.jupyter.widget-view+json": {
       "model_id": "",
       "version_major": 2,
       "version_minor": 0
      },
      "text/plain": [
       "Filter:   0%|          | 0/223 [00:00<?, ? examples/s]"
      ]
     },
     "metadata": {},
     "output_type": "display_data"
    },
    {
     "name": "stdout",
     "output_type": "stream",
     "text": [
      "    public int getLength() {\n",
      "// buggy code\n",
      "//         return ValueUtils.getLength(getBaseValue());\n",
      "       return ValueUtils.getLength(getValue());\n",
      "    }\n",
      "\n",
      "\n",
      "\n",
      "\n",
      "------------------JacksonDatabind-107------------------\n",
      "buggy_code: return null;\n",
      "fix_code: // what should this be taken to mean?\n",
      "                         return NullifyingDeserializer.instance;\n",
      "--our plausible patches:--\n",
      "-------\n",
      " deser = ctxt.findContextualValueDeserializer(_baseType, _property);\n",
      "return deser;\n",
      "--repairllama patches:--\n"
     ]
    },
    {
     "data": {
      "application/vnd.jupyter.widget-view+json": {
       "model_id": "",
       "version_major": 2,
       "version_minor": 0
      },
      "text/plain": [
       "Filter:   0%|          | 0/223 [00:00<?, ? examples/s]"
      ]
     },
     "metadata": {},
     "output_type": "display_data"
    },
    {
     "name": "stdout",
     "output_type": "stream",
     "text": [
      "    protected final JsonDeserializer<Object> _findDeserializer(DeserializationContext ctxt,\n",
      "            String typeId) throws IOException\n",
      "    {\n",
      "        JsonDeserializer<Object> deser = _deserializers.get(typeId);\n",
      "        if (deser == null) {\n",
      "            JavaType type = _idResolver.typeFromId(ctxt, typeId);\n",
      "            if (type == null) {\n",
      "                deser = _findDefaultImplDeserializer(ctxt);\n",
      "                if (deser == null) {\n",
      "                    JavaType actual = _handleUnknownTypeId(ctxt, typeId);\n",
      "                    if (actual == null) { \n",
      "// buggy code\n",
      "//                         return null;\n",
      "                       deser = _findDefaultImplDeserializer(ctxt);\n",
      "                        if (deser == null) {\n",
      "                            return null;\n",
      "                        }\n",
      "                    }\n",
      "                    deser = ctxt.findContextualValueDeserializer(actual, _property);\n",
      "                }\n",
      "            } else {\n",
      "                if ((_baseType != null)\n",
      "                        && _baseType.getClass() == type.getClass()) {\n",
      "                    if (!type.hasGenericTypes()) {\n",
      "                        type = ctxt.getTypeFactory().constructSpecializedType(_baseType, type.getRawClass());\n",
      "                    }\n",
      "                }\n",
      "                deser = ctxt.findContextualValueDeserializer(type, _property);\n",
      "            }\n",
      "            _deserializers.put(typeId, deser);\n",
      "        }\n",
      "        return deser;\n",
      "    }\n",
      "\n",
      "\n",
      "\n",
      "\n",
      "------------------Mockito-12------------------\n",
      "buggy_code: return (Class) actual;\n",
      "fix_code: if (actual instanceof Class) {\n",
      "                 return (Class) actual;\n",
      "             } else if (actual instanceof ParameterizedType) {\n",
      "                 return (Class) ((ParameterizedType) actual).getRawType();\n",
      "             }\n",
      "--our plausible patches:--\n",
      "-------\n",
      " if (actual instanceof Class) {\n",
      "    return (Class) actual;\n",
      "}\n",
      "--repairllama patches:--\n"
     ]
    },
    {
     "data": {
      "application/vnd.jupyter.widget-view+json": {
       "model_id": "",
       "version_major": 2,
       "version_minor": 0
      },
      "text/plain": [
       "Filter:   0%|          | 0/223 [00:00<?, ? examples/s]"
      ]
     },
     "metadata": {},
     "output_type": "display_data"
    },
    {
     "name": "stdout",
     "output_type": "stream",
     "text": [
      "    public Class getGenericType(Field field) {        \n",
      "        Type generic = field.getGenericType();\n",
      "        if (generic != null && generic instanceof ParameterizedType) {\n",
      "            Type actual = ((ParameterizedType) generic).getActualTypeArguments()[0];\n",
      "// buggy code\n",
      "//                 return (Class) actual;\n",
      "           if (actual instanceof Class) {\n",
      "                return (Class) actual;\n",
      "            }\n",
      "        }\n",
      "        return Object.class;\n",
      "    }\n",
      "\n",
      "\n",
      "\n",
      "\n",
      "------------------Csv-4------------------\n",
      "buggy_code: return new LinkedHashMap<String, Integer>(this.headerMap);\n",
      "fix_code: return this.headerMap == null ? null : new LinkedHashMap<String, Integer>(this.headerMap);\n",
      "--our plausible patches:--\n",
      "-------\n",
      " if (this.headerMap != null) {\n",
      "    return new LinkedHashMap<String, Integer>(this.headerMap);\n",
      "} else {\n",
      "    return null;\n",
      "}\n",
      "--repairllama patches:--\n"
     ]
    },
    {
     "data": {
      "application/vnd.jupyter.widget-view+json": {
       "model_id": "",
       "version_major": 2,
       "version_minor": 0
      },
      "text/plain": [
       "Filter:   0%|          | 0/223 [00:00<?, ? examples/s]"
      ]
     },
     "metadata": {},
     "output_type": "display_data"
    },
    {
     "name": "stdout",
     "output_type": "stream",
     "text": [
      "    public Map<String, Integer> getHeaderMap() {\n",
      "// buggy code\n",
      "//         return new LinkedHashMap<String, Integer>(this.headerMap);\n",
      "       return new LinkedHashMap<String, Integer>(this.headerMap.size());\n",
      "    }\n",
      "\n",
      "\n",
      "\n",
      "\n",
      "------------------JxPath-8------------------\n",
      "buggy_code: double rd = InfoSetUtil.doubleValue(right);\n",
      "fix_code: if (Double.isNaN(ld)) {\n",
      "             return false;\n",
      "         }\n",
      "         double rd = InfoSetUtil.doubleValue(right);\n",
      "         if (Double.isNaN(rd)) {\n",
      "             return false;\n",
      "         }\n",
      "--our plausible patches:--\n",
      "-------\n",
      " double rd = InfoSetUtil.doubleValue(right);\n",
      "if (Double.isNaN(ld) || Double.isNaN(rd))\n",
      "    return false;\n",
      "-------\n",
      " double rd = InfoSetUtil.doubleValue(right);\n",
      "if (Double.isNaN(ld) || Double.isNaN(rd)) {\n",
      "    return evaluateCompare(0);\n",
      "}\n",
      "-------\n",
      " double rd = InfoSetUtil.doubleValue(right);\n",
      "if (Double.isNaN(ld) || Double.isNaN(rd)) {\n",
      "    return false;\n",
      "}\n",
      "--repairllama patches:--\n"
     ]
    },
    {
     "data": {
      "application/vnd.jupyter.widget-view+json": {
       "model_id": "",
       "version_major": 2,
       "version_minor": 0
      },
      "text/plain": [
       "Filter:   0%|          | 0/223 [00:00<?, ? examples/s]"
      ]
     },
     "metadata": {},
     "output_type": "display_data"
    },
    {
     "name": "stdout",
     "output_type": "stream",
     "text": [
      "    private boolean compute(Object left, Object right) {\n",
      "        left = reduce(left);\n",
      "        right = reduce(right);\n",
      "        if (left instanceof InitialContext) {\n",
      "            ((InitialContext) left).reset();\n",
      "        }\n",
      "        if (right instanceof InitialContext) {\n",
      "            ((InitialContext) right).reset();\n",
      "        }\n",
      "        if (left instanceof Iterator && right instanceof Iterator) {\n",
      "            return findMatch((Iterator) left, (Iterator) right);\n",
      "        }\n",
      "        if (left instanceof Iterator) {\n",
      "            return containsMatch((Iterator) left, right);\n",
      "        }\n",
      "        if (right instanceof Iterator) {\n",
      "            return containsMatch((Iterator) right, left);\n",
      "        }\n",
      "        double ld = InfoSetUtil.doubleValue(left);\n",
      "// buggy code\n",
      "//         double rd = InfoSetUtil.doubleValue(right);\n",
      "       Double rd = InfoSetUtil.doubleValue(right);\n",
      "        return evaluateCompare(ld == rd ? 0 : ld < rd ? -1 : 1);\n",
      "    }\n",
      "\n",
      "\n",
      "\n",
      "\n",
      "------------------Csv-5------------------\n",
      "buggy_code: out.append(recordSeparator);\n",
      "fix_code: if (recordSeparator != null) {\n",
      "             out.append(recordSeparator);\n",
      "         }\n",
      "--our plausible patches:--\n",
      "-------\n",
      " if (recordSeparator != null) {\n",
      "    out.append(recordSeparator);\n",
      "}\n",
      "--repairllama patches:--\n"
     ]
    },
    {
     "data": {
      "application/vnd.jupyter.widget-view+json": {
       "model_id": "",
       "version_major": 2,
       "version_minor": 0
      },
      "text/plain": [
       "Filter:   0%|          | 0/223 [00:00<?, ? examples/s]"
      ]
     },
     "metadata": {},
     "output_type": "display_data"
    },
    {
     "name": "stdout",
     "output_type": "stream",
     "text": [
      "    public void println() throws IOException {\n",
      "        final String recordSeparator = format.getRecordSeparator();\n",
      "// buggy code\n",
      "//             out.append(recordSeparator);\n",
      "       out.append(recordSeparator);\n",
      "        newRecord = true;\n",
      "    }\n",
      "\n",
      "\n",
      "\n",
      "\n",
      "------------------Math-9------------------\n",
      "buggy_code: final Line reverted = new Line(zero, zero.subtract(direction));\n",
      "fix_code: final Line reverted = new Line(this);\n",
      "         reverted.direction = reverted.direction.negate();\n",
      "--our plausible patches:--\n",
      "-------\n",
      " final Line reverted = new Line(zero, zero.subtract(direction));\n",
      "reverted.direction = direction.negate();\n",
      "-------\n",
      " final Line reverted = new Line(zero, zero.subtract(direction));\n",
      "reverted.direction = direction.negate();\n",
      "reverted.zero = zero;\n",
      "--repairllama patches:--\n"
     ]
    },
    {
     "data": {
      "application/vnd.jupyter.widget-view+json": {
       "model_id": "",
       "version_major": 2,
       "version_minor": 0
      },
      "text/plain": [
       "Filter:   0%|          | 0/223 [00:00<?, ? examples/s]"
      ]
     },
     "metadata": {},
     "output_type": "display_data"
    },
    {
     "name": "stdout",
     "output_type": "stream",
     "text": [
      "    public Line revert() {\n",
      "// buggy code\n",
      "//         final Line reverted = new Line(zero, zero.subtract(direction));\n",
      "       final Line reverted = new Line(zero, direction.negate());\n",
      "        return reverted;\n",
      "    }\n",
      "\n",
      "\n",
      "\n",
      "\n",
      "------------------Compress-1------------------\n",
      "buggy_code: \n",
      "fix_code: this.finish();\n",
      "--our plausible patches:--\n",
      "-------\n",
      " try {\n",
      "    finish();\n",
      "} finally {\n",
      "}\n",
      "-------\n",
      " this.finish();\n",
      "--repairllama patches:--\n"
     ]
    },
    {
     "data": {
      "application/vnd.jupyter.widget-view+json": {
       "model_id": "",
       "version_major": 2,
       "version_minor": 0
      },
      "text/plain": [
       "Filter:   0%|          | 0/223 [00:00<?, ? examples/s]"
      ]
     },
     "metadata": {},
     "output_type": "display_data"
    },
    {
     "name": "stdout",
     "output_type": "stream",
     "text": [
      "    public void close() throws IOException {\n",
      "        if (!this.closed) {\n",
      "// buggy code\n",
      "// \n",
      "            super.close();\n",
      "            this.closed = true;\n",
      "        }\n",
      "    }\n",
      "\n",
      "\n",
      "\n",
      "\n",
      "------------------Lang-52------------------\n",
      "buggy_code: \n",
      "fix_code: case '/':\n",
      "                         out.write('\\\\');\n",
      "                         out.write('/');\n",
      "                         break;\n",
      "--our plausible patches:--\n",
      "-------\n",
      " case '/':\n",
      "    out.write('\\\\');\n",
      "    out.write('/');\n",
      "    break;\n",
      "--repairllama patches:--\n"
     ]
    },
    {
     "data": {
      "application/vnd.jupyter.widget-view+json": {
       "model_id": "",
       "version_major": 2,
       "version_minor": 0
      },
      "text/plain": [
       "Filter:   0%|          | 0/223 [00:00<?, ? examples/s]"
      ]
     },
     "metadata": {},
     "output_type": "display_data"
    },
    {
     "name": "stdout",
     "output_type": "stream",
     "text": [
      "    private static void escapeJavaStyleString(Writer out, String str, boolean escapeSingleQuote) throws IOException {\n",
      "        if (out == null) {\n",
      "            throw new IllegalArgumentException(\"The Writer must not be null\");\n",
      "        }\n",
      "        if (str == null) {\n",
      "            return;\n",
      "        }\n",
      "        int sz;\n",
      "        sz = str.length();\n",
      "        for (int i = 0; i < sz; i++) {\n",
      "            char ch = str.charAt(i);\n",
      "            if (ch > 0xfff) {\n",
      "                out.write(\"\\\\u\" + hex(ch));\n",
      "            } else if (ch > 0xff) {\n",
      "                out.write(\"\\\\u0\" + hex(ch));\n",
      "            } else if (ch > 0x7f) {\n",
      "                out.write(\"\\\\u00\" + hex(ch));\n",
      "            } else if (ch < 32) {\n",
      "                switch (ch) {\n",
      "                    case '\\b':\n",
      "                        out.write('\\\\');\n",
      "                        out.write('b');\n",
      "                        break;\n",
      "                    case '\\n':\n",
      "                        out.write('\\\\');\n",
      "                        out.write('n');\n",
      "                        break;\n",
      "                    case '\\t':\n",
      "                        out.write('\\\\');\n",
      "                        out.write('t');\n",
      "                        break;\n",
      "                    case '\\f':\n",
      "                        out.write('\\\\');\n",
      "                        out.write('f');\n",
      "                        break;\n",
      "                    case '\\r':\n",
      "                        out.write('\\\\');\n",
      "                        out.write('r');\n",
      "                        break;\n",
      "                    default :\n",
      "                        if (ch > 0xf) {\n",
      "                            out.write(\"\\\\u00\" + hex(ch));\n",
      "                        } else {\n",
      "                            out.write(\"\\\\u000\" + hex(ch));\n",
      "                        }\n",
      "                        break;\n",
      "                }\n",
      "            } else {\n",
      "                switch (ch) {\n",
      "                    case '\\'':\n",
      "                        if (escapeSingleQuote) {\n",
      "                          out.write('\\\\');\n",
      "                        }\n",
      "                        out.write('\\'');\n",
      "                        break;\n",
      "                    case '\"':\n",
      "                        out.write('\\\\');\n",
      "                        out.write('\"');\n",
      "                        break;\n",
      "                    case '\\\\':\n",
      "                        out.write('\\\\');\n",
      "                        out.write('\\\\');\n",
      "                        break;\n",
      "// buggy code\n",
      "// \n",
      "                   case '/':\n",
      "                        out.write('\\\\');\n",
      "                        out.write('/');\n",
      "                        break;\n",
      "                    default :\n",
      "                        out.write(ch);\n",
      "                        break;\n",
      "                }\n",
      "            }\n",
      "        }\n",
      "    }\n",
      "\n",
      "\n",
      "\n",
      "\n",
      "------------------Closure-126------------------\n",
      "buggy_code: }\n",
      "     if (NodeUtil.hasFinally(n)) {\n",
      "       Node finallyBlock = n.getLastChild();\n",
      "       tryMinimizeExits(finallyBlock, exitType, labelName);\n",
      "fix_code: \n",
      "--our plausible patches:--\n",
      "-------\n",
      " \n",
      "-------\n",
      " ;\n",
      "--repairllama patches:--\n"
     ]
    },
    {
     "data": {
      "application/vnd.jupyter.widget-view+json": {
       "model_id": "",
       "version_major": 2,
       "version_minor": 0
      },
      "text/plain": [
       "Filter:   0%|          | 0/223 [00:00<?, ? examples/s]"
      ]
     },
     "metadata": {},
     "output_type": "display_data"
    },
    {
     "name": "stdout",
     "output_type": "stream",
     "text": [
      "  void tryMinimizeExits(Node n, int exitType, String labelName) {\n",
      "    if (matchingExitNode(n, exitType, labelName)) {\n",
      "      NodeUtil.removeChild(n.getParent(), n);\n",
      "      compiler.reportCodeChange();\n",
      "      return;\n",
      "    }\n",
      "    if (n.isIf()) {\n",
      "      Node ifBlock = n.getFirstChild().getNext();\n",
      "      tryMinimizeExits(ifBlock, exitType, labelName);\n",
      "      Node elseBlock = ifBlock.getNext();\n",
      "      if (elseBlock != null) {\n",
      "        tryMinimizeExits(elseBlock, exitType, labelName);\n",
      "      }\n",
      "      return;\n",
      "    }\n",
      "    if (n.isTry()) {\n",
      "      Node tryBlock = n.getFirstChild();\n",
      "      tryMinimizeExits(tryBlock, exitType, labelName);\n",
      "      Node allCatchNodes = NodeUtil.getCatchBlock(n);\n",
      "      if (NodeUtil.hasCatchHandler(allCatchNodes)) {\n",
      "        Preconditions.checkState(allCatchNodes.hasOneChild());\n",
      "        Node catchNode = allCatchNodes.getFirstChild();\n",
      "        Node catchCodeBlock = catchNode.getLastChild();\n",
      "        tryMinimizeExits(catchCodeBlock, exitType, labelName);\n",
      "// buggy code\n",
      "//       }\n",
      "//       if (NodeUtil.hasFinally(n)) {\n",
      "//         Node finallyBlock = n.getLastChild();\n",
      "//         tryMinimizeExits(finallyBlock, exitType, labelName);\n",
      "     } else if (NodeUtil.hasFinally(n)) {\n",
      "        Node finallyBlock = n.getLastChild();\n",
      "        tryMinimizeExits(finallyBlock, exitType, labelName);\n",
      "      }\n",
      "    }\n",
      "    if (n.isLabel()) {\n",
      "      Node labelBlock = n.getLastChild();\n",
      "      tryMinimizeExits(labelBlock, exitType, labelName);\n",
      "    }\n",
      "    if (!n.isBlock() || n.getLastChild() == null) {\n",
      "      return;\n",
      "    }\n",
      "    for (Node c : n.children()) {\n",
      "      if (c.isIf()) {\n",
      "        Node ifTree = c;\n",
      "        Node trueBlock, falseBlock;\n",
      "        trueBlock = ifTree.getFirstChild().getNext();\n",
      "        falseBlock = trueBlock.getNext();\n",
      "        tryMinimizeIfBlockExits(trueBlock, falseBlock,\n",
      "            ifTree, exitType, labelName);\n",
      "        trueBlock = ifTree.getFirstChild().getNext();\n",
      "        falseBlock = trueBlock.getNext();\n",
      "        if (falseBlock != null) {\n",
      "          tryMinimizeIfBlockExits(falseBlock, trueBlock,\n",
      "              ifTree, exitType, labelName);\n",
      "        }\n",
      "      }\n",
      "      if (c == n.getLastChild()) {\n",
      "        break;\n",
      "      }\n",
      "    }\n",
      "    for (Node c = n.getLastChild(); c != null; c = n.getLastChild()) {\n",
      "      tryMinimizeExits(c, exitType, labelName);\n",
      "      if (c == n.getLastChild()) {\n",
      "        break;\n",
      "      }\n",
      "    }\n",
      "  }\n",
      "\n",
      "\n",
      "\n",
      "\n",
      "------------------Math-89------------------\n",
      "buggy_code: addValue((Comparable<?>) v);\n",
      "fix_code: if (v instanceof Comparable<?>){\n",
      "             addValue((Comparable<?>) v);            \n",
      "          else {\n",
      "             throw new IllegalArgumentException(\"Object must implement Comparable\");\n",
      "         }\n",
      "     }\n",
      "--our plausible patches:--\n",
      "-------\n",
      " if (v instanceof Comparable<?>) {\n",
      "    addValue((Comparable<?>) v);\n",
      "} else {\n",
      "    throw new IllegalArgumentException(\"Object is not comparable\");\n",
      "}\n",
      "-------\n",
      " if (v instanceof Comparable<?>) {\n",
      "    addValue((Comparable<?>) v);\n",
      "} else {\n",
      "    throw new IllegalArgumentException(\"Object \" + v + \" is not Comparable\");\n",
      "}\n",
      "-------\n",
      " if (v instanceof Comparable<?>) {\n",
      "    addValue((Comparable<?>) v);\n",
      "} else {\n",
      "    throw new IllegalArgumentException(\"Object \" + v + \" is not comparable\");\n",
      "}\n",
      "-------\n",
      " if (v instanceof Comparable<?>) {\n",
      "    addValue((Comparable<?>) v);\n",
      "} else {\n",
      "    throw new IllegalArgumentException(\"Object is not Comparable: \" + v);\n",
      "}\n",
      "-------\n",
      " if (v instanceof Comparable<?>) {\n",
      "    addValue((Comparable<?>) v);\n",
      "} else {\n",
      "    throw new IllegalArgumentException(\"Value not comparable: \" + v);\n",
      "}\n",
      "-------\n",
      " if (v instanceof Comparable<?>) {\n",
      "    addValue((Comparable<?>) v);\n",
      "} else {\n",
      "    throw new IllegalArgumentException(\"Object is not comparable: \" + v);\n",
      "}\n",
      "-------\n",
      " if (v instanceof Comparable<?>) {\n",
      "    addValue((Comparable<?>) v);\n",
      "} else {\n",
      "    throw new IllegalArgumentException(\"Value is not comparable: \" + v);\n",
      "}\n",
      "-------\n",
      " if (v instanceof Comparable<?>) {\n",
      "    addValue((Comparable<?>) v);\n",
      "} else {\n",
      "    throw new IllegalArgumentException(\"Value \" + v + \" is not comparable\");\n",
      "}\n",
      "--repairllama patches:--\n"
     ]
    },
    {
     "data": {
      "application/vnd.jupyter.widget-view+json": {
       "model_id": "",
       "version_major": 2,
       "version_minor": 0
      },
      "text/plain": [
       "Filter:   0%|          | 0/223 [00:00<?, ? examples/s]"
      ]
     },
     "metadata": {},
     "output_type": "display_data"
    },
    {
     "name": "stdout",
     "output_type": "stream",
     "text": [
      "    public void addValue(Object v) {\n",
      "// buggy code\n",
      "//             addValue((Comparable<?>) v);            \n",
      "    }\n",
      "\n"
     ]
    }
   ],
   "source": [
    "for i in unique_dataset:\n",
    "    print(f\"\\n\\n\")\n",
    "    print(f\"------------------{i['bug_id']}------------------\")\n",
    "    print('buggy_code:', i['buggyInfo']['buggyCode'])\n",
    "    print('fix_code:', i['buggyInfo']['originalCode'])\n",
    "    print('--our plausible patches:--')\n",
    "    for j in i['test_res']:\n",
    "        if j['correctness']=='plausible':\n",
    "            print('-------')            \n",
    "            print(j['patch'])\n",
    "    print('--repairllama patches:--')\n",
    "    print(repairllama_dataset.filter(lambda x:x['bug_id']==i['bug_id'])[0]['patches'][0])"
   ]
  },
  {
   "cell_type": "code",
   "execution_count": null,
   "id": "e93389ee-9d6c-4323-a714-a463ee2c650a",
   "metadata": {},
   "outputs": [],
   "source": []
  },
  {
   "cell_type": "code",
   "execution_count": null,
   "id": "b42fb855-eda1-41b1-a584-1f2c19fa34bc",
   "metadata": {},
   "outputs": [],
   "source": []
  }
 ],
 "metadata": {
  "kernelspec": {
   "display_name": "Python 3 (ipykernel)",
   "language": "python",
   "name": "python3"
  },
  "language_info": {
   "codemirror_mode": {
    "name": "ipython",
    "version": 3
   },
   "file_extension": ".py",
   "mimetype": "text/x-python",
   "name": "python",
   "nbconvert_exporter": "python",
   "pygments_lexer": "ipython3",
   "version": "3.9.13"
  }
 },
 "nbformat": 4,
 "nbformat_minor": 5
}
