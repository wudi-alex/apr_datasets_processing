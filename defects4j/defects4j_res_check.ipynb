{
 "cells": [
  {
   "cell_type": "markdown",
   "id": "a4d0274c-1ef1-4fc9-bdad-c8544cc1abb7",
   "metadata": {
    "tags": []
   },
   "source": [
    "## Codellama 7b infill"
   ]
  },
  {
   "cell_type": "code",
   "execution_count": 4,
   "id": "0048b109-9104-4b32-a1ce-aeaa8d1e9be8",
   "metadata": {
    "tags": []
   },
   "outputs": [],
   "source": [
    "from datasets import load_from_disk, Dataset"
   ]
  },
  {
   "cell_type": "code",
   "execution_count": null,
   "id": "75767183-bbee-4720-81ae-4709c5c13c05",
   "metadata": {
    "tags": []
   },
   "outputs": [],
   "source": [
    "equal=[]\n",
    "dataset=load_from_disk(f'../../codeExp/datasets/codellama_7b_infill')\n",
    "for i in dataset:\n",
    "    bug_id, buggy_lines, gen_patch, patch, inputs= i['bug_id'],i['buggy_lines'], i['gen_patch'][0], i['patch'], i['input']\n",
    "    if gen_patch.strip()==patch.strip():\n",
    "        equal.append(bug_id)\n",
    "    print('--------------------')\n",
    "    print(bug_id)\n",
    "    print('---input----')\n",
    "    print([i['pre']])\n",
    "    print([i['post']])\n",
    "    print('---buggy----')\n",
    "    print(buggy_lines)\n",
    "    print('---gen------')\n",
    "    print(gen_patch)\n",
    "    print('---patch')\n",
    "    print(patch)"
   ]
  },
  {
   "cell_type": "code",
   "execution_count": 19,
   "id": "8e000324-a0a1-4dd3-8486-45199bceaac5",
   "metadata": {
    "tags": []
   },
   "outputs": [
    {
     "data": {
      "text/plain": [
       "['Math_79',\n",
       " 'Chart_1',\n",
       " 'Chart_11',\n",
       " 'Chart_20',\n",
       " 'Cli_8',\n",
       " 'Closure_57',\n",
       " 'Gson_17',\n",
       " 'JacksonDatabind_76',\n",
       " 'Jsoup_57',\n",
       " 'Lang_40',\n",
       " 'Lang_43',\n",
       " 'Lang_59',\n",
       " 'Math_30',\n",
       " 'Math_41',\n",
       " 'Math_56',\n",
       " 'Math_57']"
      ]
     },
     "execution_count": 19,
     "metadata": {},
     "output_type": "execute_result"
    }
   ],
   "source": [
    "equal"
   ]
  },
  {
   "cell_type": "markdown",
   "id": "cd4f46ff-81f4-4484-8d17-38fbbe4b197f",
   "metadata": {},
   "source": [
    "## codellama comparison"
   ]
  },
  {
   "cell_type": "code",
   "execution_count": null,
   "id": "c3e41e59-91ae-4858-8f3a-324359d80a70",
   "metadata": {
    "tags": []
   },
   "outputs": [],
   "source": [
    "dataset=load_from_disk(f'../../codeExp/datasets/codellama_comparison')\n",
    "for i in dataset:\n",
    "    bug_id, buggy_lines, gen_patch, patch, inputs= i['bug_id'],i['buggy_lines'], i['gen_patch'][0], i['patch'], i['input']\n",
    "    if 'The correct patch is B.' in gen_patch:\n",
    "        print('--------------------')\n",
    "        print(bug_id)\n",
    "        print('---input------')\n",
    "        print(i['pre'])\n",
    "        print('<INFILL>')\n",
    "        print(i['post'])\n",
    "        print('A. '+patch.strip())\n",
    "        print('B. '+buggy_lines.strip())"
   ]
  },
  {
   "cell_type": "code",
   "execution_count": 31,
   "id": "8462e4bf-a515-437c-a18f-8d647c51ef1a",
   "metadata": {
    "tags": []
   },
   "outputs": [
    {
     "data": {
      "text/plain": [
       "138"
      ]
     },
     "execution_count": 31,
     "metadata": {},
     "output_type": "execute_result"
    }
   ],
   "source": [
    "correct=0\n",
    "for i in dataset:\n",
    "    gen_patch= i['gen_patch'][0]\n",
    "    if 'The correct patch is A.' in gen_patch:\n",
    "        correct+=1\n",
    "correct"
   ]
  },
  {
   "cell_type": "code",
   "execution_count": 32,
   "id": "b460512e-3f19-4084-a12e-2b9c6ded3c3e",
   "metadata": {
    "tags": []
   },
   "outputs": [
    {
     "data": {
      "text/plain": [
       "Dataset({\n",
       "    features: ['file name', 'loc', 'input', 'function range', 'pre', 'buggy_lines', 'post', 'patch', 'bug_id', 'gen_patch'],\n",
       "    num_rows: 172\n",
       "})"
      ]
     },
     "execution_count": 32,
     "metadata": {},
     "output_type": "execute_result"
    }
   ],
   "source": [
    "dataset"
   ]
  },
  {
   "cell_type": "code",
   "execution_count": null,
   "id": "78798f2f-c143-4be0-b57e-e8af76b84e42",
   "metadata": {},
   "outputs": [],
   "source": []
  }
 ],
 "metadata": {
  "kernelspec": {
   "display_name": "Python 3 (ipykernel)",
   "language": "python",
   "name": "python3"
  },
  "language_info": {
   "codemirror_mode": {
    "name": "ipython",
    "version": 3
   },
   "file_extension": ".py",
   "mimetype": "text/x-python",
   "name": "python",
   "nbconvert_exporter": "python",
   "pygments_lexer": "ipython3",
   "version": "3.11.5"
  }
 },
 "nbformat": 4,
 "nbformat_minor": 5
}
