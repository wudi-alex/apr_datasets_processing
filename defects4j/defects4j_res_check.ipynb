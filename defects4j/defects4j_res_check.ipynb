{
 "cells": [
  {
   "cell_type": "markdown",
   "id": "a4d0274c-1ef1-4fc9-bdad-c8544cc1abb7",
   "metadata": {
    "tags": []
   },
   "source": [
    "## Codellama 7b infill"
   ]
  },
  {
   "cell_type": "code",
   "execution_count": null,
   "id": "0048b109-9104-4b32-a1ce-aeaa8d1e9be8",
   "metadata": {
    "tags": []
   },
   "outputs": [],
   "source": [
    "!pip install transformers"
   ]
  },
  {
   "cell_type": "code",
   "execution_count": 2,
   "id": "032b91ea-35f5-4451-8a70-50deadd9bf31",
   "metadata": {},
   "outputs": [],
   "source": [
    "from datasets import load_from_disk, Dataset"
   ]
  },
  {
   "cell_type": "code",
   "execution_count": null,
   "id": "75767183-bbee-4720-81ae-4709c5c13c05",
   "metadata": {
    "tags": []
   },
   "outputs": [],
   "source": [
    "equal=[]\n",
    "dataset=load_from_disk(f'../../codeExp/datasets/codellama_7b_infill')\n",
    "for i in dataset:\n",
    "    bug_id, buggy_lines, gen_patch, patch, inputs= i['bug_id'],i['buggy_lines'], i['gen_patch'][0], i['patch'], i['input']\n",
    "    if gen_patch.strip()==patch.strip():\n",
    "        equal.append(bug_id)\n",
    "    print('--------------------')\n",
    "    print(bug_id)\n",
    "    print('---input----')\n",
    "    print([i['pre']])\n",
    "    print([i['post']])\n",
    "    print('---buggy----')\n",
    "    print(buggy_lines)\n",
    "    print('---gen------')\n",
    "    print(gen_patch)\n",
    "    print('---patch')\n",
    "    print(patch)"
   ]
  },
  {
   "cell_type": "code",
   "execution_count": 19,
   "id": "8e000324-a0a1-4dd3-8486-45199bceaac5",
   "metadata": {
    "tags": []
   },
   "outputs": [
    {
     "data": {
      "text/plain": [
       "['Math_79',\n",
       " 'Chart_1',\n",
       " 'Chart_11',\n",
       " 'Chart_20',\n",
       " 'Cli_8',\n",
       " 'Closure_57',\n",
       " 'Gson_17',\n",
       " 'JacksonDatabind_76',\n",
       " 'Jsoup_57',\n",
       " 'Lang_40',\n",
       " 'Lang_43',\n",
       " 'Lang_59',\n",
       " 'Math_30',\n",
       " 'Math_41',\n",
       " 'Math_56',\n",
       " 'Math_57']"
      ]
     },
     "execution_count": 19,
     "metadata": {},
     "output_type": "execute_result"
    }
   ],
   "source": [
    "equal"
   ]
  },
  {
   "cell_type": "markdown",
   "id": "cd4f46ff-81f4-4484-8d17-38fbbe4b197f",
   "metadata": {},
   "source": [
    "## codellama comparison"
   ]
  },
  {
   "cell_type": "code",
   "execution_count": null,
   "id": "c3e41e59-91ae-4858-8f3a-324359d80a70",
   "metadata": {
    "tags": []
   },
   "outputs": [],
   "source": [
    "dataset=load_from_disk(f'../../codeExp/datasets/codellama_comparison')\n",
    "for i in dataset:\n",
    "    bug_id, buggy_lines, gen_patch, patch, inputs= i['bug_id'],i['buggy_lines'], i['gen_patch'][0], i['patch'], i['input']\n",
    "    if 'The correct patch is B.' in gen_patch:\n",
    "        print('--------------------')\n",
    "        print(bug_id)\n",
    "        print('---input------')\n",
    "        print(i['pre'])\n",
    "        print('<INFILL>')\n",
    "        print(i['post'])\n",
    "        print('A. '+patch.strip())\n",
    "        print('B. '+buggy_lines.strip())"
   ]
  },
  {
   "cell_type": "code",
   "execution_count": 31,
   "id": "8462e4bf-a515-437c-a18f-8d647c51ef1a",
   "metadata": {
    "tags": []
   },
   "outputs": [
    {
     "data": {
      "text/plain": [
       "138"
      ]
     },
     "execution_count": 31,
     "metadata": {},
     "output_type": "execute_result"
    }
   ],
   "source": [
    "correct=0\n",
    "for i in dataset:\n",
    "    gen_patch= i['gen_patch'][0]\n",
    "    if 'The correct patch is A.' in gen_patch:\n",
    "        correct+=1\n",
    "correct"
   ]
  },
  {
   "cell_type": "code",
   "execution_count": 32,
   "id": "b460512e-3f19-4084-a12e-2b9c6ded3c3e",
   "metadata": {
    "tags": []
   },
   "outputs": [
    {
     "data": {
      "text/plain": [
       "Dataset({\n",
       "    features: ['file name', 'loc', 'input', 'function range', 'pre', 'buggy_lines', 'post', 'patch', 'bug_id', 'gen_patch'],\n",
       "    num_rows: 172\n",
       "})"
      ]
     },
     "execution_count": 32,
     "metadata": {},
     "output_type": "execute_result"
    }
   ],
   "source": [
    "dataset"
   ]
  },
  {
   "cell_type": "markdown",
   "id": "c231e8fa-5563-4abb-9cab-710b91a24f67",
   "metadata": {},
   "source": [
    "## ppo apr"
   ]
  },
  {
   "cell_type": "code",
   "execution_count": null,
   "id": "e59ee15d-6551-455f-adb7-0ecb6609a576",
   "metadata": {},
   "outputs": [],
   "source": [
    "dataset=load_from_disk(f'../../codeExp/datasets/rlhf_apr')\n",
    "for i in dataset:\n",
    "    bug_id, buggy_lines, gen_patch, patch, inputs= i['bug_id'],i['buggy_lines'], i['gen_patch'][0], i['patch'], i['input']\n",
    "    if gen_patch.strip()==patch.strip():\n",
    "        equal.append(bug_id)\n",
    "    print('--------------------')\n",
    "    print(bug_id)\n",
    "    print('---input----')\n",
    "    print([i['pre']])\n",
    "    print([i['post']])\n",
    "    print('---buggy----')\n",
    "    print(buggy_lines)\n",
    "    print('---gen------')\n",
    "    print(gen_patch)\n",
    "    print('---patch')\n",
    "    print(patch)"
   ]
  },
  {
   "cell_type": "markdown",
   "id": "107f760b-a43b-4a9e-8b2e-45895e203fcf",
   "metadata": {},
   "source": [
    "## ppo sft"
   ]
  },
  {
   "cell_type": "code",
   "execution_count": null,
   "id": "c0fcd682-4817-4ae6-8d26-80a6fff9afc6",
   "metadata": {},
   "outputs": [],
   "source": [
    "equal=[]\n",
    "dataset=load_from_disk(f'../../codeExp/datasets/rlhf_apr_sft')\n",
    "for i in dataset:\n",
    "    bug_id, buggy_lines, gen_patch, patch, inputs= i['bug_id'],i['buggy_lines'], i['gen_patch'][0], i['patch'], i['input']\n",
    "    gen_patch=gen_patch.replace('<|endoftext|>', '').replace('<unk>','').replace(i['pre'], '').replace(i['post'], '')\n",
    "    if gen_patch.strip()==patch.strip():\n",
    "        equal.append(bug_id)\n",
    "    print('--------------------')\n",
    "    print(bug_id)\n",
    "    print('---input----')\n",
    "    print(i['pre'])\n",
    "    print(i['post'])\n",
    "    print('---buggy----')\n",
    "    print(buggy_lines)\n",
    "    print('---gen------')\n",
    "    print(gen_patch)\n",
    "    print('---patch')\n",
    "    print(patch)\n",
    "print(len(equal))"
   ]
  },
  {
   "cell_type": "code",
   "execution_count": 6,
   "id": "3ca7ce1f-ea6b-49f6-92d4-b9caf30327f5",
   "metadata": {},
   "outputs": [
    {
     "data": {
      "text/plain": [
       "73.75"
      ]
     },
     "execution_count": 6,
     "metadata": {},
     "output_type": "execute_result"
    }
   ],
   "source": [
    "sum(len(row['patch']) for row in dataset) / len(dataset)"
   ]
  },
  {
   "cell_type": "code",
   "execution_count": 7,
   "id": "0032115d-b324-40ef-ae0e-6dea39cf279d",
   "metadata": {},
   "outputs": [
    {
     "data": {
      "text/plain": [
       "64.57558139534883"
      ]
     },
     "execution_count": 7,
     "metadata": {},
     "output_type": "execute_result"
    }
   ],
   "source": [
    "sum(len(row['buggy_lines']) for row in dataset) / len(dataset)"
   ]
  },
  {
   "cell_type": "code",
   "execution_count": 11,
   "id": "9a264c98-adf0-4459-8318-e72d63dccef7",
   "metadata": {},
   "outputs": [
    {
     "name": "stdout",
     "output_type": "stream",
     "text": [
      "@Override public void visit(NodeTraversal t, Node n, Node parent) { if (t.inGlobalScope()) { if (NodeUtil.isVarDeclaration(n)) { NameInformation ns = createNameInformation(t, n, parent); Preconditions.checkNotNull(ns); recordSet(ns.name, n); } else if (NodeUtil.isFunctionDeclaration(n)) { Node nameNode = n.getFirstChild(); NameInformation ns = createNameInformation(t, nameNode, n); if (ns != null) { JsName nameInfo = getName(nameNode.getString(), true); recordSet(nameInfo.name, nameNode); } } else if (NodeUtil.isObjectLitKey(n, parent)) { NameInformation ns = createNameInformation(t, n, parent); if (ns != null) { recordSet(ns.name, n); } } } if (n.isAssign()) { Node nameNode = n.getFirstChild(); NameInformation ns = createNameInformation(t, nameNode, n); if (ns != null) { if (ns.isPrototype) { recordPrototypeSet(ns.prototypeClass, ns.prototypeProperty, n); } else { recordSet(ns.name, nameNode); } } } else if (n.isCall()) { Node nameNode = n.getFirstChild(); NameInformation ns = createNameInformation(t, nameNode, n); if (ns != null && ns.onlyAffectsClassDef) { <FILL_ME> if (name != null) { refNodes.add(new ClassDefiningFunctionNode( name, n, parent, parent.getParent())); } } } }\n"
     ]
    }
   ],
   "source": [
    "print(\"@Override public void visit(NodeTraversal t, Node n, Node parent) { if (t.inGlobalScope()) { if (NodeUtil.isVarDeclaration(n)) { NameInformation ns = createNameInformation(t, n, parent); Preconditions.checkNotNull(ns); recordSet(ns.name, n); } else if (NodeUtil.isFunctionDeclaration(n)) { Node nameNode = n.getFirstChild(); NameInformation ns = createNameInformation(t, nameNode, n); if (ns != null) { JsName nameInfo = getName(nameNode.getString(), true); recordSet(nameInfo.name, nameNode); } } else if (NodeUtil.isObjectLitKey(n, parent)) { NameInformation ns = createNameInformation(t, n, parent); if (ns != null) { recordSet(ns.name, n); } } } if (n.isAssign()) { Node nameNode = n.getFirstChild(); NameInformation ns = createNameInformation(t, nameNode, n); if (ns != null) { if (ns.isPrototype) { recordPrototypeSet(ns.prototypeClass, ns.prototypeProperty, n); } else { recordSet(ns.name, nameNode); } } } else if (n.isCall()) { Node nameNode = n.getFirstChild(); NameInformation ns = createNameInformation(t, nameNode, n); if (ns != null && ns.onlyAffectsClassDef) { <FILL_ME> if (name != null) { refNodes.add(new ClassDefiningFunctionNode( name, n, parent, parent.getParent())); } } } }\")"
   ]
  },
  {
   "cell_type": "code",
   "execution_count": null,
   "id": "daf7e1e4-739a-4204-b4f0-98151710bd4a",
   "metadata": {},
   "outputs": [],
   "source": []
  }
 ],
 "metadata": {
  "kernelspec": {
   "display_name": "Python 3 (ipykernel)",
   "language": "python",
   "name": "python3"
  },
  "language_info": {
   "codemirror_mode": {
    "name": "ipython",
    "version": 3
   },
   "file_extension": ".py",
   "mimetype": "text/x-python",
   "name": "python",
   "nbconvert_exporter": "python",
   "pygments_lexer": "ipython3",
   "version": "3.9.13"
  }
 },
 "nbformat": 4,
 "nbformat_minor": 5
}
