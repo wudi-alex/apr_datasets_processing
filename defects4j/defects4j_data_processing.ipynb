{
 "cells": [
  {
   "cell_type": "markdown",
   "id": "ab5ea31c-e0cb-4cd0-a4ed-66dd873c8898",
   "metadata": {},
   "source": [
    "## 查看defectsj patch"
   ]
  },
  {
   "cell_type": "code",
   "execution_count": null,
   "id": "bbe12325-ed4d-40ee-99c7-92699b1f034f",
   "metadata": {
    "tags": []
   },
   "outputs": [],
   "source": [
    "import json\n",
    "file='input_base.json'\n",
    "with open(file, 'r') as file:\n",
    "    data1 = json.load(file)['data']\n",
    "    for i in data1:\n",
    "        print(f'----------{i}----------')\n",
    "        print(i)\n",
    "        print(data1[i]['buggy_lines'])\n",
    "        print(data1[i]['patch'])"
   ]
  },
  {
   "cell_type": "markdown",
   "id": "c55be0f0-0f16-4601-a838-a8f6ec901c15",
   "metadata": {},
   "source": [
    "## codellama infill dataset"
   ]
  },
  {
   "cell_type": "code",
   "execution_count": 19,
   "id": "65f1b0e1-3da4-4c75-adba-5cfdcdc21dbd",
   "metadata": {
    "tags": []
   },
   "outputs": [],
   "source": [
    "import json\n",
    "file_name='codellama_7b_infill.json'\n",
    "\n",
    "with open('input_base.json', 'r') as file:\n",
    "    data = json.load(file)"
   ]
  },
  {
   "cell_type": "code",
   "execution_count": 20,
   "id": "d53f44ef-bcd4-4779-ab34-759d597c8e00",
   "metadata": {
    "tags": []
   },
   "outputs": [],
   "source": [
    "for key in data['data']:\n",
    "    # format as \"<PRE> {pre} <SUF>{suf} <MID>\"\n",
    "    data['data'][key]['input']=\"<PRE> \"+data['data'][key]['pre']+\" <SUF>\"+data['data'][key]['post']+ \" <MID>\"\n",
    "\n",
    "json.dump(data, open(file_name, 'w'), indent=2)"
   ]
  },
  {
   "cell_type": "code",
   "execution_count": null,
   "id": "3a14a9b6-ccb7-4e10-bbc4-2b67537791d5",
   "metadata": {
    "tags": []
   },
   "outputs": [],
   "source": [
    "with open(file_name, 'r') as file:\n",
    "    data1 = json.load(file)['data']\n",
    "    for i in data1:\n",
    "        print(f'----------{i}----------')\n",
    "        print(i)\n",
    "        print(data1[i]['input'])"
   ]
  },
  {
   "cell_type": "markdown",
   "id": "52c7d2f5-0f9c-4d64-b8ba-0a289ededc28",
   "metadata": {
    "tags": []
   },
   "source": [
    "## codellama perference dataset"
   ]
  },
  {
   "cell_type": "code",
   "execution_count": 23,
   "id": "2010c90e-3d64-4038-8357-74e58da382ca",
   "metadata": {
    "tags": []
   },
   "outputs": [],
   "source": [
    "## \n",
    "import json\n",
    "file_name='codellama_comparison.json'\n",
    "\n",
    "with open('input_base.json', 'r') as file:\n",
    "    data = json.load(file)"
   ]
  },
  {
   "cell_type": "code",
   "execution_count": 28,
   "id": "4439b6c6-67d0-4f53-addd-9368a1a23854",
   "metadata": {
    "tags": []
   },
   "outputs": [],
   "source": [
    "prompt=\"\"\"<|role_start|>system<|role_end|>You are an intelligent programming assistant for JAVA.<|role_start|>human<|role_end|>Choose a correct patch from the following two patches to infill the Java code.\\n\\nJava code:\\npublic static double distance(int[] p1, int[] p2) {\\n<INFILL>\\n  for (int i = 0; i < p1.length; i++) {\\n      final int dp = p1[i] - p2[i];\\n      sum += dp * dp;\\n  }\\n  return Math.sqrt(sum);\\n}\\n\\nPatches:\\nA. int sum = 0;\\nB. double sum = 0;<|role_start|>bot<|role_end|>The correct patch is B.\"\"\"\n",
    "\n",
    "for key in data['data']:\n",
    "    # format as \"<PRE> {pre} <SUF>{suf} <MID>\"\n",
    "    data['data'][key]['input']=prompt+\"<|role_start|>human<|role_end|>Choose a correct patch from the following two patches to infill the Java code.\\n\\nJava code:\\n\"+data['data'][key]['pre']+\"<INFILL>\\n\"+data['data'][key]['post']+ \"\\n\\nPatches:\\nA. \"+data['data'][key]['patch'].lstrip()+\"B. \"+data['data'][key]['buggy_lines'].strip()+'<|role_start|>bot<|role_end|>'\n",
    "\n",
    "json.dump(data, open(file_name, 'w'), indent=2)"
   ]
  },
  {
   "cell_type": "code",
   "execution_count": null,
   "id": "5f17a0c5-817d-4947-ac88-2a02c08c523b",
   "metadata": {
    "tags": []
   },
   "outputs": [],
   "source": [
    "with open(file_name, 'r') as file:\n",
    "    data1 = json.load(file)['data']\n",
    "    for i in data1:\n",
    "        print(f'----------{i}----------')\n",
    "        print(i)\n",
    "        print(data1[i]['input'])"
   ]
  },
  {
   "cell_type": "code",
   "execution_count": null,
   "id": "dd4796ba-bbe4-4ddc-b7f6-7c3d9fca3e0d",
   "metadata": {},
   "outputs": [],
   "source": []
  }
 ],
 "metadata": {
  "kernelspec": {
   "display_name": "Python 3 (ipykernel)",
   "language": "python",
   "name": "python3"
  },
  "language_info": {
   "codemirror_mode": {
    "name": "ipython",
    "version": 3
   },
   "file_extension": ".py",
   "mimetype": "text/x-python",
   "name": "python",
   "nbconvert_exporter": "python",
   "pygments_lexer": "ipython3",
   "version": "3.9.9"
  }
 },
 "nbformat": 4,
 "nbformat_minor": 5
}
