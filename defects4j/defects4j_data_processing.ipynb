{
 "cells": [
  {
   "cell_type": "markdown",
   "id": "ab5ea31c-e0cb-4cd0-a4ed-66dd873c8898",
   "metadata": {},
   "source": [
    "## 查看defectsj patch"
   ]
  },
  {
   "cell_type": "code",
   "execution_count": null,
   "id": "bbe12325-ed4d-40ee-99c7-92699b1f034f",
   "metadata": {
    "tags": []
   },
   "outputs": [],
   "source": [
    "import json\n",
    "file='input_base.json'\n",
    "with open(file, 'r') as file:\n",
    "    data1 = json.load(file)['data']\n",
    "    for i in data1:\n",
    "        print(f'----------{i}----------')\n",
    "        print(i)\n",
    "        print(data1[i]['buggy_lines'])\n",
    "        print(data1[i]['patch'])"
   ]
  },
  {
   "cell_type": "markdown",
   "id": "c55be0f0-0f16-4601-a838-a8f6ec901c15",
   "metadata": {},
   "source": [
    "## codellama infill dataset"
   ]
  },
  {
   "cell_type": "code",
   "execution_count": 19,
   "id": "65f1b0e1-3da4-4c75-adba-5cfdcdc21dbd",
   "metadata": {
    "tags": []
   },
   "outputs": [],
   "source": [
    "import json\n",
    "file_name='codellama_7b_infill.json'\n",
    "\n",
    "with open('input_base.json', 'r') as file:\n",
    "    data = json.load(file)"
   ]
  },
  {
   "cell_type": "code",
   "execution_count": 20,
   "id": "d53f44ef-bcd4-4779-ab34-759d597c8e00",
   "metadata": {
    "tags": []
   },
   "outputs": [],
   "source": [
    "for key in data['data']:\n",
    "    # format as \"<PRE> {pre} <SUF>{suf} <MID>\"\n",
    "    data['data'][key]['input']=\"<PRE> \"+data['data'][key]['pre']+\" <SUF>\"+data['data'][key]['post']+ \" <MID>\"\n",
    "\n",
    "json.dump(data, open(file_name, 'w'), indent=2)"
   ]
  },
  {
   "cell_type": "code",
   "execution_count": null,
   "id": "3a14a9b6-ccb7-4e10-bbc4-2b67537791d5",
   "metadata": {
    "tags": []
   },
   "outputs": [],
   "source": [
    "with open(file_name, 'r') as file:\n",
    "    data1 = json.load(file)['data']\n",
    "    for i in data1:\n",
    "        print(f'----------{i}----------')\n",
    "        print(i)\n",
    "        print(data1[i]['input'])"
   ]
  },
  {
   "cell_type": "code",
   "execution_count": null,
   "id": "ade76b1a-62d7-4222-bc4d-7c8d068a30ec",
   "metadata": {},
   "outputs": [],
   "source": []
  }
 ],
 "metadata": {
  "kernelspec": {
   "display_name": "Python 3 (ipykernel)",
   "language": "python",
   "name": "python3"
  },
  "language_info": {
   "codemirror_mode": {
    "name": "ipython",
    "version": 3
   },
   "file_extension": ".py",
   "mimetype": "text/x-python",
   "name": "python",
   "nbconvert_exporter": "python",
   "pygments_lexer": "ipython3",
   "version": "3.9.9"
  }
 },
 "nbformat": 4,
 "nbformat_minor": 5
}
