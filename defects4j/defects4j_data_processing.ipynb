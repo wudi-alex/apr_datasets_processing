{
 "cells": [
  {
   "cell_type": "markdown",
   "id": "ab5ea31c-e0cb-4cd0-a4ed-66dd873c8898",
   "metadata": {},
   "source": [
    "## 查看defectsj patch"
   ]
  },
  {
   "cell_type": "code",
   "execution_count": null,
   "id": "bbe12325-ed4d-40ee-99c7-92699b1f034f",
   "metadata": {
    "tags": []
   },
   "outputs": [],
   "source": [
    "import json\n",
    "file='input_base.json'\n",
    "with open(file, 'r') as file:\n",
    "    data1 = json.load(file)['data']\n",
    "    for i in data1:\n",
    "        print(f'----------{i}----------')\n",
    "        print(i)\n",
    "        print(data1[i]['buggy_lines'])\n",
    "        print(data1[i]['patch'])"
   ]
  },
  {
   "cell_type": "markdown",
   "id": "c55be0f0-0f16-4601-a838-a8f6ec901c15",
   "metadata": {},
   "source": [
    "## codellama infill dataset"
   ]
  },
  {
   "cell_type": "code",
   "execution_count": 27,
   "id": "65f1b0e1-3da4-4c75-adba-5cfdcdc21dbd",
   "metadata": {
    "tags": []
   },
   "outputs": [],
   "source": [
    "import json\n",
    "file_name='codellama_7b_infill.json'\n",
    "\n",
    "with open('input_base.json', 'r') as file:\n",
    "    data = json.load(file)"
   ]
  },
  {
   "cell_type": "code",
   "execution_count": 20,
   "id": "d53f44ef-bcd4-4779-ab34-759d597c8e00",
   "metadata": {
    "tags": []
   },
   "outputs": [],
   "source": [
    "for key in data['data']:\n",
    "    # format as \"<PRE> {pre} <SUF>{suf} <MID>\"\n",
    "    data['data'][key]['input']=\"<PRE> \"+data['data'][key]['pre']+\" <SUF>\"+data['data'][key]['post']+ \" <MID>\"\n",
    "\n",
    "json.dump(data, open(file_name, 'w'), indent=2)"
   ]
  },
  {
   "cell_type": "code",
   "execution_count": null,
   "id": "3a14a9b6-ccb7-4e10-bbc4-2b67537791d5",
   "metadata": {
    "tags": []
   },
   "outputs": [],
   "source": [
    "with open(file_name, 'r') as file:\n",
    "    data1 = json.load(file)['data']\n",
    "    for i in data1:\n",
    "        print(f'----------{i}----------')\n",
    "        print(i)\n",
    "        print(data1[i]['input'])"
   ]
  },
  {
   "cell_type": "markdown",
   "id": "fea58d13-37e9-4ec7-999d-c28446121c05",
   "metadata": {},
   "source": [
    "## codellama fillme dataset"
   ]
  },
  {
   "cell_type": "code",
   "execution_count": 32,
   "id": "eff7062b-a881-4adf-a18e-6f94eb49d1e6",
   "metadata": {},
   "outputs": [],
   "source": [
    "import json\n",
    "file_name='codellama_7b_fillme.json'\n",
    "\n",
    "with open('input_base.json', 'r') as file:\n",
    "    data = json.load(file)"
   ]
  },
  {
   "cell_type": "code",
   "execution_count": 33,
   "id": "86ab50b7-8ce0-4998-998b-4fe3d6c834eb",
   "metadata": {},
   "outputs": [],
   "source": [
    "\n",
    "for key in data['data']:\n",
    "    # format as \"<PRE> {pre} <SUF>{suf} <MID>\"\n",
    "    data['data'][key]['input']=data['data'][key]['pre']+\"<FILL_ME>\"+data['data'][key]['post']\n",
    "\n",
    "json.dump(data, open(file_name, 'w'), indent=2)"
   ]
  },
  {
   "cell_type": "code",
   "execution_count": null,
   "id": "7fa9852e-25ab-402e-9c64-8a98a84db481",
   "metadata": {},
   "outputs": [],
   "source": [
    "with open(file_name, 'r') as file:\n",
    "    data1 = json.load(file)['data']\n",
    "    for i in data1:\n",
    "        print(f'----------{i}----------')\n",
    "        print(i)\n",
    "        print(data1[i]['input'])"
   ]
  },
  {
   "cell_type": "markdown",
   "id": "52c7d2f5-0f9c-4d64-b8ba-0a289ededc28",
   "metadata": {
    "tags": []
   },
   "source": [
    "## codellama perference dataset"
   ]
  },
  {
   "cell_type": "code",
   "execution_count": 23,
   "id": "2010c90e-3d64-4038-8357-74e58da382ca",
   "metadata": {
    "tags": []
   },
   "outputs": [],
   "source": [
    "## \n",
    "import json\n",
    "file_name='codellama_comparison.json'\n",
    "\n",
    "with open('input_base.json', 'r') as file:\n",
    "    data = json.load(file)"
   ]
  },
  {
   "cell_type": "code",
   "execution_count": 28,
   "id": "4439b6c6-67d0-4f53-addd-9368a1a23854",
   "metadata": {
    "tags": []
   },
   "outputs": [],
   "source": [
    "prompt=\"\"\"<|role_start|>system<|role_end|>You are an intelligent programming assistant for JAVA.<|role_start|>human<|role_end|>Choose a correct patch from the following two patches to infill the Java code.\\n\\nJava code:\\npublic static double distance(int[] p1, int[] p2) {\\n<INFILL>\\n  for (int i = 0; i < p1.length; i++) {\\n      final int dp = p1[i] - p2[i];\\n      sum += dp * dp;\\n  }\\n  return Math.sqrt(sum);\\n}\\n\\nPatches:\\nA. int sum = 0;\\nB. double sum = 0;<|role_start|>bot<|role_end|>The correct patch is B.\"\"\"\n",
    "\n",
    "for key in data['data']:\n",
    "    # format as \"<PRE> {pre} <SUF>{suf} <MID>\"\n",
    "    data['data'][key]['input']=prompt+\"<|role_start|>human<|role_end|>Choose a correct patch from the following two patches to infill the Java code.\\n\\nJava code:\\n\"+data['data'][key]['pre']+\"<INFILL>\\n\"+data['data'][key]['post']+ \"\\n\\nPatches:\\nA. \"+data['data'][key]['patch'].lstrip()+\"B. \"+data['data'][key]['buggy_lines'].strip()+'<|role_start|>bot<|role_end|>'\n",
    "\n",
    "json.dump(data, open(file_name, 'w'), indent=2)"
   ]
  },
  {
   "cell_type": "code",
   "execution_count": null,
   "id": "5f17a0c5-817d-4947-ac88-2a02c08c523b",
   "metadata": {
    "tags": []
   },
   "outputs": [],
   "source": [
    "with open(file_name, 'r') as file:\n",
    "    data1 = json.load(file)['data']\n",
    "    for i in data1:\n",
    "        print(f'----------{i}----------')\n",
    "        print(i)\n",
    "        print(data1[i]['input'])"
   ]
  },
  {
   "cell_type": "markdown",
   "id": "d1af084b-c970-4ae9-a691-3e5e0a36fc59",
   "metadata": {},
   "source": [
    "## codellama infill with buggy lines dataset"
   ]
  },
  {
   "cell_type": "code",
   "execution_count": 2,
   "id": "2d905b5b-4bcb-4c67-ad35-e7c004db067f",
   "metadata": {},
   "outputs": [],
   "source": [
    "import json\n",
    "file_name='codellama_infill_with_buggy_lines.json'\n",
    "\n",
    "with open('input_base.json', 'r') as file:\n",
    "    data = json.load(file)"
   ]
  },
  {
   "cell_type": "code",
   "execution_count": 4,
   "id": "8973a7ac-fa36-4635-941b-50c1310af1c8",
   "metadata": {},
   "outputs": [],
   "source": [
    "def count_leading_spaces(s):\n",
    "    stripped_string = s.lstrip()\n",
    "    leading_spaces = len(s) - len(stripped_string)\n",
    "    return leading_spaces-1\n",
    "\n",
    "def add_buggy_lines(buggy_line, space_num):\n",
    "    lst=buggy_line.split('\\n')\n",
    "    commented_lst=[space_num*' '+'// buggy code']\n",
    "    for s in lst:\n",
    "        if len(s.strip())>0:\n",
    "             commented_lst+=[space_num*' '+'// '+s[space_num:]]\n",
    "    return '\\n'.join(commented_lst)"
   ]
  },
  {
   "cell_type": "code",
   "execution_count": 5,
   "id": "3228d960-6851-4086-8759-59400bae77b2",
   "metadata": {},
   "outputs": [],
   "source": [
    "for key in data['data']:\n",
    "    # format as \"<PRE> {pre} <SUF>{suf} <MID>\"\n",
    "    pre, suffix, buggy_line =data['data'][key]['pre'], data['data'][key]['post'], data['data'][key]['buggy_lines']\n",
    "    space_num = count_leading_spaces(buggy_line)\n",
    "    buggy_line= add_buggy_lines(buggy_line, space_num)\n",
    "    data['data'][key]['input']='<PRE> '+pre+buggy_line+' <SUF>'+suffix+' <MID>'\n",
    "\n",
    "json.dump(data, open(file_name, 'w'), indent=2)"
   ]
  },
  {
   "cell_type": "code",
   "execution_count": null,
   "id": "f1cb39bb-aa6a-4dce-bb53-165e86612b26",
   "metadata": {},
   "outputs": [],
   "source": [
    "with open(file_name, 'r') as file:\n",
    "    data1 = json.load(file)['data']\n",
    "    for i in data1:\n",
    "        print(f'----------{i}----------')\n",
    "        print(i)\n",
    "        print(data1[i]['input'])"
   ]
  },
  {
   "cell_type": "markdown",
   "id": "816c29da-c770-4c42-9a9a-26ef77ff669f",
   "metadata": {},
   "source": [
    "## Test"
   ]
  },
  {
   "cell_type": "code",
   "execution_count": 35,
   "id": "a76ab1a7-610f-417f-bc08-4672a5d00842",
   "metadata": {},
   "outputs": [],
   "source": [
    "import os\n",
    "\n",
    "os.environ['TRANSFORMERS_CACHE'] = '/datasets/Large_Language_Models'\n",
    "\n",
    "from transformers import LlamaForCausalLM, CodeLlamaTokenizer, AutoTokenizer\n",
    "\n",
    "tokenizer = AutoTokenizer.from_pretrained(\"codellama/CodeLlama-7b-hf\")\n",
    "tokenizer.padding_side = 'left'\n",
    "tokenizer.pad_token = tokenizer.eos_token"
   ]
  },
  {
   "cell_type": "code",
   "execution_count": 36,
   "id": "7e6e2263-e06d-4e0f-8fc3-4aa8518551d7",
   "metadata": {},
   "outputs": [
    {
     "data": {
      "text/plain": [
       "tensor([[    2,     2,     2,     2,     2,     2,     2,     2,     2,     2,\n",
       "             2,     2,     2,     2,     2,     2,     2,     2,     2,     2,\n",
       "             2,     2,     2,     2,     2,     2,     2,     2,     2,     2,\n",
       "             2,     2,     2,     2,     1, 32007,   970,  3765,   679,  1451,\n",
       "         29875, 29903,  4718,   580,   426,    13,  1678,  3765, 18558, 29903,\n",
       "          4718,   353, 29871, 29900, 29936,    13,  1678,   363,   313,   524,\n",
       "           474,   353, 29871, 29900, 29936,   474,   529,  4206, 29936,  8445,\n",
       "         29875, 29897,   426,    13,  4706,  2186,  3765, 10995,   950,   353,\n",
       "         10995, 27101, 29961, 29875,  1385,    13, 32008,    13,  1678,   500,\n",
       "            13,  1678,   736, 18558, 29903,  4718, 29936,    13, 29913, 32009]])"
      ]
     },
     "execution_count": 36,
     "metadata": {},
     "output_type": "execute_result"
    }
   ],
   "source": [
    "PROMPT = '''public double getChiSquare() {\n",
    "    double chiSquare = 0;\n",
    "    for (int i = 0; i < rows; ++i) {\n",
    "        final double residual = residuals[i];\n",
    "<FILL_ME>\n",
    "    }\n",
    "    return chiSquare;\n",
    "}'''\n",
    "input_ids = tokenizer(PROMPT, return_tensors=\"pt\", padding=\"max_length\", max_length=100, truncation=True)[\"input_ids\"]\n",
    "input_ids"
   ]
  },
  {
   "cell_type": "code",
   "execution_count": 41,
   "id": "ef247edf-3ed0-4379-84bc-cbee2873260b",
   "metadata": {},
   "outputs": [
    {
     "data": {
      "text/plain": [
       "tensor([[    2,     2,     2,     2,     2,     2,     2,     2,     2,     2,\n",
       "             2,     2,     2,     2,     2,     2,     2,     2,     2,     2,\n",
       "             2,     2,     2,     2,     2,     2,     2,     2,     2,     2,\n",
       "             2,     2,     2,     2,     1, 32007,   970,  3765,   679,  1451,\n",
       "         29875, 29903,  4718,   580,   426,    13,  1678,  3765, 18558, 29903,\n",
       "          4718,   353, 29871, 29900, 29936,    13,  1678,   363,   313,   524,\n",
       "           474,   353, 29871, 29900, 29936,   474,   529,  4206, 29936,  8445,\n",
       "         29875, 29897,   426,    13,  4706,  2186,  3765, 10995,   950,   353,\n",
       "         10995, 27101, 29961, 29875,  1385,    13, 32008,    13,  1678,   500,\n",
       "            13,  1678,   736, 18558, 29903,  4718, 29936,    13, 29913, 32009]])"
      ]
     },
     "execution_count": 41,
     "metadata": {},
     "output_type": "execute_result"
    }
   ],
   "source": [
    "fill_PROMPT='''<PRE> public double getChiSquare() {\n",
    "    double chiSquare = 0;\n",
    "    for (int i = 0; i < rows; ++i) {\n",
    "        final double residual = residuals[i];\n",
    " <SUF>\n",
    "    }\n",
    "    return chiSquare;\n",
    "} <MID>'''\n",
    "fill_input_ids = tokenizer(fill_PROMPT, return_tensors=\"pt\",  padding=\"max_length\", max_length=100, truncation=True)[\"input_ids\"]\n",
    "fill_input_ids"
   ]
  },
  {
   "cell_type": "code",
   "execution_count": 42,
   "id": "3a5400a1-743c-44d6-a2e0-77f446552194",
   "metadata": {},
   "outputs": [
    {
     "data": {
      "text/plain": [
       "'</s></s></s></s></s></s></s></s></s></s></s></s></s></s></s></s></s></s></s></s></s></s></s></s></s></s></s></s></s></s></s></s></s></s><s> <PRE> public double getChiSquare() {\\n    double chiSquare = 0;\\n    for (int i = 0; i < rows; ++i) {\\n        final double residual = residuals[i];\\n <SUF>\\n    }\\n    return chiSquare;\\n} <MID>'"
      ]
     },
     "execution_count": 42,
     "metadata": {},
     "output_type": "execute_result"
    }
   ],
   "source": [
    "tokenizer.decode(input_ids[0], skip_special_tokens = False)"
   ]
  },
  {
   "cell_type": "code",
   "execution_count": 43,
   "id": "1e7bbcf9-d6be-430e-bfc6-9b13be33b184",
   "metadata": {},
   "outputs": [
    {
     "data": {
      "text/plain": [
       "'</s></s></s></s></s></s></s></s></s></s></s></s></s></s></s></s></s></s></s></s></s></s></s></s></s></s></s></s></s></s></s></s></s></s><s> <PRE> public double getChiSquare() {\\n    double chiSquare = 0;\\n    for (int i = 0; i < rows; ++i) {\\n        final double residual = residuals[i];\\n <SUF>\\n    }\\n    return chiSquare;\\n} <MID>'"
      ]
     },
     "execution_count": 43,
     "metadata": {},
     "output_type": "execute_result"
    }
   ],
   "source": [
    "tokenizer.decode(fill_input_ids[0], skip_special_tokens = False)"
   ]
  },
  {
   "cell_type": "code",
   "execution_count": null,
   "id": "724c45cc-dded-43de-9dd7-586d1b971e37",
   "metadata": {},
   "outputs": [],
   "source": []
  }
 ],
 "metadata": {
  "kernelspec": {
   "display_name": "dschat",
   "language": "python",
   "name": "dschat"
  },
  "language_info": {
   "codemirror_mode": {
    "name": "ipython",
    "version": 3
   },
   "file_extension": ".py",
   "mimetype": "text/x-python",
   "name": "python",
   "nbconvert_exporter": "python",
   "pygments_lexer": "ipython3",
   "version": "3.11.5"
  }
 },
 "nbformat": 4,
 "nbformat_minor": 5
}
