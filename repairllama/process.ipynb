{
 "cells": [
  {
   "cell_type": "code",
   "execution_count": 1,
   "id": "692792e0-4a27-40ee-a897-5f7cfa19b309",
   "metadata": {},
   "outputs": [],
   "source": [
    "import os\n",
    "from datasets import *"
   ]
  },
  {
   "cell_type": "code",
   "execution_count": 2,
   "id": "527f5e5b-af79-447f-898a-038e65e30371",
   "metadata": {},
   "outputs": [],
   "source": [
    "directory='/projects/ksun3/dwu25/repairllama/results/defects4j/repairllama/fft/patches'"
   ]
  },
  {
   "cell_type": "code",
   "execution_count": 3,
   "id": "32d6d1af-64c9-4651-bd5f-0d0a51e44324",
   "metadata": {},
   "outputs": [
    {
     "data": {
      "text/plain": [
       "'        if (dataset == null) {\\n            return result;\\n'"
      ]
     },
     "execution_count": 3,
     "metadata": {},
     "output_type": "execute_result"
    }
   ],
   "source": [
    "def extract_added_lines(diff):\n",
    "    # 分割diff字符串为单独的行\n",
    "    lines = diff.split('\\n')\n",
    "    # 提取所有以'+'开始的行\n",
    "    added_lines =[line.replace('+', '')+'\\n' for line in lines[2:] if line.startswith('+')]\n",
    "    return ''.join(added_lines)\n",
    "\n",
    "# Diff文件的内容\n",
    "diff_content = \"\"\"\n",
    "public LegendItemCollection getLegendItems() {\n",
    "         LegendItemCollection result = new LegendItemCollection();\n",
    "         if (this.plot == null) {\n",
    "             return result;\n",
    "         }\n",
    "         int index = this.plot.getIndexOf(this);\n",
    "         CategoryDataset dataset = this.plot.getDataset(index);\n",
    "-        if (dataset != null) {\n",
    "+        if (dataset == null) {\n",
    "+            return result;\n",
    "         }\n",
    "         int seriesCount = dataset.getRowCount();\n",
    "         if (plot.getRowRenderingOrder().equals(SortOrder.ASCENDING)) {\n",
    "             for (int i = 0; i < seriesCount; i++) {\n",
    "                 if (isSeriesVisibleInLegend(i)) {\n",
    "                     LegendItem item = getLegendItem(index, i);\n",
    "                     if (item != null) {\n",
    "                         result.add(item);\n",
    "                     }\n",
    "                 }\n",
    "             }\n",
    "         } \n",
    "\"\"\"\n",
    "\n",
    "# 获取添加的行\n",
    "added_lines = extract_added_lines(diff_content)\n",
    "\n",
    "# 打印结果\n",
    "added_lines\n",
    "\n"
   ]
  },
  {
   "cell_type": "code",
   "execution_count": 4,
   "id": "ab4a4f3f-43a4-4559-bc66-cad9a691267b",
   "metadata": {},
   "outputs": [],
   "source": [
    "sample_list=[]\n",
    "for entry in os.listdir(directory):\n",
    "    sample={}\n",
    "    path = os.path.join(directory, entry)\n",
    "    if os.path.isdir(path):\n",
    "        with open(path+'/prompt.txt', 'r') as file:\n",
    "            sample['input']=file.read()\n",
    "        with open(path+'/target.diff', 'r') as file:\n",
    "            target=file.read()\n",
    "        sample['bug_id']=entry\n",
    "        sample['target']=extract_added_lines(target)\n",
    "        sample_list.append(sample)"
   ]
  },
  {
   "cell_type": "code",
   "execution_count": 5,
   "id": "6785ed58-5c11-4ed3-860e-3246528af828",
   "metadata": {},
   "outputs": [],
   "source": [
    "import os\n",
    "import json\n",
    "\n",
    "# 假设 directory 是你的目录路径\n",
    "output_file_path = 'defects4j_with_buggyline.jsonl'\n",
    "\n",
    "with open(output_file_path, 'w') as output_file:\n",
    "    for entry in os.listdir(directory):\n",
    "        sample = {}\n",
    "        path = os.path.join(directory, entry)\n",
    "        if os.path.isdir(path):\n",
    "            with open(os.path.join(path, 'prompt.txt'), 'r') as file:\n",
    "                sample['input'] = file.read()\n",
    "            with open(os.path.join(path, 'target.diff'), 'r') as file:\n",
    "                target = file.read()\n",
    "            sample['bug_id'] = entry\n",
    "            sample['target'] = extract_added_lines(target)  # 假设这个函数已经被正确定义\n",
    "            \n",
    "            # 将sample字典转换为JSON字符串，并写入到.jsonl文件中\n",
    "            json_line = json.dumps(sample)\n",
    "            output_file.write(json_line + '\\n')\n"
   ]
  },
  {
   "cell_type": "code",
   "execution_count": 5,
   "id": "6487b807-7198-49d2-91af-67c503f55ca2",
   "metadata": {},
   "outputs": [],
   "source": [
    "dataset = Dataset.from_list(sample_list)"
   ]
  },
  {
   "cell_type": "code",
   "execution_count": 6,
   "id": "b60db2a6-80a1-4bf0-ae77-b22df89d9b24",
   "metadata": {},
   "outputs": [
    {
     "data": {
      "application/vnd.jupyter.widget-view+json": {
       "model_id": "367b9c370f914a59b4fe2cb82c92a969",
       "version_major": 2,
       "version_minor": 0
      },
      "text/plain": [
       "Saving the dataset (0/1 shards):   0%|          | 0/479 [00:00<?, ? examples/s]"
      ]
     },
     "metadata": {},
     "output_type": "display_data"
    }
   ],
   "source": [
    "dataset.save_to_disk('defects4j_with_buggy_repairllama')"
   ]
  },
  {
   "cell_type": "code",
   "execution_count": null,
   "id": "007d8285-0263-43fe-a811-00e5469325cb",
   "metadata": {},
   "outputs": [],
   "source": []
  }
 ],
 "metadata": {
  "kernelspec": {
   "display_name": "Python 3 (ipykernel)",
   "language": "python",
   "name": "python3"
  },
  "language_info": {
   "codemirror_mode": {
    "name": "ipython",
    "version": 3
   },
   "file_extension": ".py",
   "mimetype": "text/x-python",
   "name": "python",
   "nbconvert_exporter": "python",
   "pygments_lexer": "ipython3",
   "version": "3.9.9"
  }
 },
 "nbformat": 4,
 "nbformat_minor": 5
}
